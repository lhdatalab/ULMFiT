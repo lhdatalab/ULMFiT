{
 "cells": [
  {
   "cell_type": "code",
   "execution_count": 275,
   "metadata": {},
   "outputs": [
    {
     "name": "stderr",
     "output_type": "stream",
     "text": [
      "C:\\MathLabASUS\\SW\\DM\\Anaconda2\\envs\\pyspark\\lib\\site-packages\\h5py\\__init__.py:34: FutureWarning: Conversion of the second argument of issubdtype from `float` to `np.floating` is deprecated. In future, it will be treated as `np.float64 == np.dtype(float).type`.\n",
      "  from ._conv import register_converters as _register_converters\n",
      "Using Theano backend.\n"
     ]
    },
    {
     "name": "stdout",
     "output_type": "stream",
     "text": [
      "\n",
      "You can find the C code in this temporary file: c:\\users\\laura\\appdata\\local\\temp\\theano_compilation_error_nmp01s\n"
     ]
    },
    {
     "ename": "Exception",
     "evalue": "Compilation failed (return status=1): C:\\Users\\Laura\\AppData\\Local\\Temp\\ccUvn8e6.o: In function `unpack_list_of_ssize_t':\r. C:/Users/Laura/AppData/Local/Theano/compiledir_Windows-10-10.0.17763-Intel64_Family_6_Model_142_Stepping_9_GenuineIntel-2.7.14-64/lazylinker_ext/mod.cpp:48: undefined reference to `__imp_PyExc_TypeError'\r. C:/Users/Laura/AppData/Local/Theano/compiledir_Windows-10-10.0.17763-Intel64_Family_6_Model_142_Stepping_9_GenuineIntel-2.7.14-64/lazylinker_ext/mod.cpp:58: undefined reference to `__imp_PyExc_IndexError'\r. C:\\Users\\Laura\\AppData\\Local\\Temp\\ccUvn8e6.o: In function `CLazyLinker_init':\r. C:/Users/Laura/AppData/Local/Theano/compiledir_Windows-10-10.0.17763-Intel64_Family_6_Model_142_Stepping_9_GenuineIntel-2.7.14-64/lazylinker_ext/mod.cpp:331: undefined reference to `__imp_PyCObject_Type'\r. C:/Users/Laura/AppData/Local/Theano/compiledir_Windows-10-10.0.17763-Intel64_Family_6_Model_142_Stepping_9_GenuineIntel-2.7.14-64/lazylinker_ext/mod.cpp:352: undefined reference to `__imp_PyExc_IndexError'\r. C:/Users/Laura/AppData/Local/Theano/compiledir_Windows-10-10.0.17763-Intel64_Family_6_Model_142_Stepping_9_GenuineIntel-2.7.14-64/lazylinker_ext/mod.cpp:370: undefined reference to `__imp_PyExc_IndexError'\r. C:/Users/Laura/AppData/Local/Theano/compiledir_Windows-10-10.0.17763-Intel64_Family_6_Model_142_Stepping_9_GenuineIntel-2.7.14-64/lazylinker_ext/mod.cpp:385: undefined reference to `__imp_PyExc_IndexError'\r. C:/Users/Laura/AppData/Local/Theano/compiledir_Windows-10-10.0.17763-Intel64_Family_6_Model_142_Stepping_9_GenuineIntel-2.7.14-64/lazylinker_ext/mod.cpp:389: undefined reference to `__imp_PyExc_IndexError'\r. C:/Users/Laura/AppData/Local/Theano/compiledir_Windows-10-10.0.17763-Intel64_Family_6_Model_142_Stepping_9_GenuineIntel-2.7.14-64/lazylinker_ext/mod.cpp:393: undefined reference to `__imp_PyExc_IndexError'\r. C:\\Users\\Laura\\AppData\\Local\\Temp\\ccUvn8e6.o:C:/Users/Laura/AppData/Local/Theano/compiledir_Windows-10-10.0.17763-Intel64_Family_6_Model_142_Stepping_9_GenuineIntel-2.7.14-64/lazylinker_ext/mod.cpp:397: more undefined references to `__imp_PyExc_IndexError' follow\r. C:\\Users\\Laura\\AppData\\Local\\Temp\\ccUvn8e6.o: In function `CLazyLinker_init':\r. C:/Users/Laura/AppData/Local/Theano/compiledir_Windows-10-10.0.17763-Intel64_Family_6_Model_142_Stepping_9_GenuineIntel-2.7.14-64/lazylinker_ext/mod.cpp:405: undefined reference to `__imp_PyExc_TypeError'\r. C:/Users/Laura/AppData/Local/Theano/compiledir_Windows-10-10.0.17763-Intel64_Family_6_Model_142_Stepping_9_GenuineIntel-2.7.14-64/lazylinker_ext/mod.cpp:420: undefined reference to `__imp__Py_NoneStruct'\r. C:/Users/Laura/AppData/Local/Theano/compiledir_Windows-10-10.0.17763-Intel64_Family_6_Model_142_Stepping_9_GenuineIntel-2.7.14-64/lazylinker_ext/mod.cpp:426: undefined reference to `__imp_PyExc_IndexError'\r. C:/Users/Laura/AppData/Local/Theano/compiledir_Windows-10-10.0.17763-Intel64_Family_6_Model_142_Stepping_9_GenuineIntel-2.7.14-64/lazylinker_ext/mod.cpp:440: undefined reference to `__imp_PyExc_TypeError'\r. C:/Users/Laura/AppData/Local/Theano/compiledir_Windows-10-10.0.17763-Intel64_Family_6_Model_142_Stepping_9_GenuineIntel-2.7.14-64/lazylinker_ext/mod.cpp:444: undefined reference to `__imp__Py_NoneStruct'\r. C:\\Users\\Laura\\AppData\\Local\\Temp\\ccUvn8e6.o: In function `c_call':\r. C:/Users/Laura/AppData/Local/Theano/compiledir_Windows-10-10.0.17763-Intel64_Family_6_Model_142_Stepping_9_GenuineIntel-2.7.14-64/lazylinker_ext/mod.cpp:545: undefined reference to `__imp__Py_NoneStruct'\r. C:/Users/Laura/AppData/Local/Theano/compiledir_Windows-10-10.0.17763-Intel64_Family_6_Model_142_Stepping_9_GenuineIntel-2.7.14-64/lazylinker_ext/mod.cpp:545: undefined reference to `__imp__Py_NoneStruct'\r. C:/Users/Laura/AppData/Local/Theano/compiledir_Windows-10-10.0.17763-Intel64_Family_6_Model_142_Stepping_9_GenuineIntel-2.7.14-64/lazylinker_ext/mod.cpp:545: undefined reference to `__imp__Py_NoneStruct'\r. C:/Users/Laura/AppData/Local/Theano/compiledir_Windows-10-10.0.17763-Intel64_Family_6_Model_142_Stepping_9_GenuineIntel-2.7.14-64/lazylinker_ext/mod.cpp:546: undefined reference to `__imp__Py_NoneStruct'\r. C:\\Users\\Laura\\AppData\\Local\\Temp\\ccUvn8e6.o:C:/Users/Laura/AppData/Local/Theano/compiledir_Windows-10-10.0.17763-Intel64_Family_6_Model_142_Stepping_9_GenuineIntel-2.7.14-64/lazylinker_ext/mod.cpp:546: more undefined references to `__imp__Py_NoneStruct' follow\r. C:\\Users\\Laura\\AppData\\Local\\Temp\\ccUvn8e6.o: In function `lazy_rec_eval':\r. C:/Users/Laura/AppData/Local/Theano/compiledir_Windows-10-10.0.17763-Intel64_Family_6_Model_142_Stepping_9_GenuineIntel-2.7.14-64/lazylinker_ext/mod.cpp:618: undefined reference to `__imp_PyExc_IndexError'\r. C:/Users/Laura/AppData/Local/Theano/compiledir_Windows-10-10.0.17763-Intel64_Family_6_Model_142_Stepping_9_GenuineIntel-2.7.14-64/lazylinker_ext/mod.cpp:641: undefined reference to `__imp_PyExc_TypeError'\r. C:/Users/Laura/AppData/Local/Theano/compiledir_Windows-10-10.0.17763-Intel64_Family_6_Model_142_Stepping_9_GenuineIntel-2.7.14-64/lazylinker_ext/mod.cpp:649: undefined reference to `__imp_PyExc_ValueError'\r. C:/Users/Laura/AppData/Local/Theano/compiledir_Windows-10-10.0.17763-Intel64_Family_6_Model_142_Stepping_9_GenuineIntel-2.7.14-64/lazylinker_ext/mod.cpp:657: undefined reference to `__imp_PyExc_IndexError'\r. C:/Users/Laura/AppData/Local/Theano/compiledir_Windows-10-10.0.17763-Intel64_Family_6_Model_142_Stepping_9_GenuineIntel-2.7.14-64/lazylinker_ext/mod.cpp:708: undefined reference to `__imp__Py_NoneStruct'\r. C:/Users/Laura/AppData/Local/Theano/compiledir_Windows-10-10.0.17763-Intel64_Family_6_Model_142_Stepping_9_GenuineIntel-2.7.14-64/lazylinker_ext/mod.cpp:715: undefined reference to `__imp_PyExc_TypeError'\r. C:/Users/Laura/AppData/Local/Theano/compiledir_Windows-10-10.0.17763-Intel64_Family_6_Model_142_Stepping_9_GenuineIntel-2.7.14-64/lazylinker_ext/mod.cpp:721: undefined reference to `__imp_PyExc_TypeError'\r. C:/Users/Laura/AppData/Local/Theano/compiledir_Windows-10-10.0.17763-Intel64_Family_6_Model_142_Stepping_9_GenuineIntel-2.7.14-64/lazylinker_ext/mod.cpp:771: undefined reference to `__imp__Py_NoneStruct'\r. C:/Users/Laura/AppData/Local/Theano/compiledir_Windows-10-10.0.17763-Intel64_Family_6_Model_142_Stepping_9_GenuineIntel-2.7.14-64/lazylinker_ext/mod.cpp:771: undefined reference to `__imp__Py_NoneStruct'\r. C:/Users/Laura/AppData/Local/Theano/compiledir_Windows-10-10.0.17763-Intel64_Family_6_Model_142_Stepping_9_GenuineIntel-2.7.14-64/lazylinker_ext/mod.cpp:772: undefined reference to `__imp__Py_NoneStruct'\r. C:\\Users\\Laura\\AppData\\Local\\Temp\\ccUvn8e6.o: In function `CLazyLinker_call':\r. C:/Users/Laura/AppData/Local/Theano/compiledir_Windows-10-10.0.17763-Intel64_Family_6_Model_142_Stepping_9_GenuineIntel-2.7.14-64/lazylinker_ext/mod.cpp:814: undefined reference to `__imp_PyExc_RuntimeError'\r. C:/Users/Laura/AppData/Local/Theano/compiledir_Windows-10-10.0.17763-Intel64_Family_6_Model_142_Stepping_9_GenuineIntel-2.7.14-64/lazylinker_ext/mod.cpp:826: undefined reference to `__imp_PyExc_RuntimeError'\r. C:/Users/Laura/AppData/Local/Theano/compiledir_Windows-10-10.0.17763-Intel64_Family_6_Model_142_Stepping_9_GenuineIntel-2.7.14-64/lazylinker_ext/mod.cpp:839: undefined reference to `__imp__Py_NoneStruct'\r. C:/Users/Laura/AppData/Local/Theano/compiledir_Windows-10-10.0.17763-Intel64_Family_6_Model_142_Stepping_9_GenuineIntel-2.7.14-64/lazylinker_ext/mod.cpp:839: undefined reference to `__imp__Py_NoneStruct'\r. C:/Users/Laura/AppData/Local/Theano/compiledir_Windows-10-10.0.17763-Intel64_Family_6_Model_142_Stepping_9_GenuineIntel-2.7.14-64/lazylinker_ext/mod.cpp:840: undefined reference to `__imp__Py_NoneStruct'\r. C:/Users/Laura/AppData/Local/Theano/compiledir_Windows-10-10.0.17763-Intel64_Family_6_Model_142_Stepping_9_GenuineIntel-2.7.14-64/lazylinker_ext/mod.cpp:849: undefined reference to `__imp__Py_NoneStruct'\r. C:/Users/Laura/AppData/Local/Theano/compiledir_Windows-10-10.0.17763-Intel64_Family_6_Model_142_Stepping_9_GenuineIntel-2.7.14-64/lazylinker_ext/mod.cpp:849: undefined reference to `__imp__Py_NoneStruct'\r. C:\\Users\\Laura\\AppData\\Local\\Temp\\ccUvn8e6.o:C:/Users/Laura/AppData/Local/Theano/compiledir_Windows-10-10.0.17763-Intel64_Family_6_Model_142_Stepping_9_GenuineIntel-2.7.14-64/lazylinker_ext/mod.cpp:850: more undefined references to `__imp__Py_NoneStruct' follow\r. C:\\Users\\Laura\\AppData\\Local\\Temp\\ccUvn8e6.o: In function `CLazyLinker_call':\r. C:/Users/Laura/AppData/Local/Theano/compiledir_Windows-10-10.0.17763-Intel64_Family_6_Model_142_Stepping_9_GenuineIntel-2.7.14-64/lazylinker_ext/mod.cpp:894: undefined reference to `__imp_PyExc_AssertionError'\r. C:/Users/Laura/AppData/Local/Theano/compiledir_Windows-10-10.0.17763-Intel64_Family_6_Model_142_Stepping_9_GenuineIntel-2.7.14-64/lazylinker_ext/mod.cpp:937: undefined reference to `__imp__Py_NoneStruct'\r. C:/Users/Laura/AppData/Local/Theano/compiledir_Windows-10-10.0.17763-Intel64_Family_6_Model_142_Stepping_9_GenuineIntel-2.7.14-64/lazylinker_ext/mod.cpp:937: undefined reference to `__imp__Py_NoneStruct'\r. C:/Users/Laura/AppData/Local/Theano/compiledir_Windows-10-10.0.17763-Intel64_Family_6_Model_142_Stepping_9_GenuineIntel-2.7.14-64/lazylinker_ext/mod.cpp:938: undefined reference to `__imp__Py_NoneStruct'\r. C:\\Users\\Laura\\AppData\\Local\\Temp\\ccUvn8e6.o: In function `CLazyLinker_set_allow_gc':\r. C:/Users/Laura/AppData/Local/Theano/compiledir_Windows-10-10.0.17763-Intel64_Family_6_Model_142_Stepping_9_GenuineIntel-2.7.14-64/lazylinker_ext/mod.cpp:973: undefined reference to `__imp_PyBool_Type'\r. C:/Users/Laura/AppData/Local/Theano/compiledir_Windows-10-10.0.17763-Intel64_Family_6_Model_142_Stepping_9_GenuineIntel-2.7.14-64/lazylinker_ext/mod.cpp:976: undefined reference to `__imp__Py_TrueStruct'\r. collect2.exe: error: ld returned 1 exit status\r. ",
     "output_type": "error",
     "traceback": [
      "\u001b[1;31m\u001b[0m",
      "\u001b[1;31mException\u001b[0mTraceback (most recent call last)",
      "\u001b[1;32m<ipython-input-275-ad69017ac87b>\u001b[0m in \u001b[0;36m<module>\u001b[1;34m()\u001b[0m\n\u001b[0;32m      6\u001b[0m \u001b[1;32mfrom\u001b[0m \u001b[0mnltk\u001b[0m \u001b[1;32mimport\u001b[0m \u001b[0msent_tokenize\u001b[0m\u001b[1;33m,\u001b[0m \u001b[0mword_tokenize\u001b[0m\u001b[1;33m,\u001b[0m \u001b[0mRegexpTokenizer\u001b[0m\u001b[1;33m\u001b[0m\u001b[0m\n\u001b[0;32m      7\u001b[0m \u001b[1;32mfrom\u001b[0m \u001b[0mnltk\u001b[0m\u001b[1;33m.\u001b[0m\u001b[0mcorpus\u001b[0m \u001b[1;32mimport\u001b[0m \u001b[0mstopwords\u001b[0m\u001b[1;33m\u001b[0m\u001b[0m\n\u001b[1;32m----> 8\u001b[1;33m \u001b[1;32mimport\u001b[0m \u001b[0mtalos\u001b[0m \u001b[1;32mas\u001b[0m \u001b[0mta\u001b[0m\u001b[1;33m\u001b[0m\u001b[0m\n\u001b[0m\u001b[0;32m      9\u001b[0m \u001b[1;31m#from sklearn.feature_extraction.stop_words import ENGLISH_STOP_WORDS as stopwords\u001b[0m\u001b[1;33m\u001b[0m\u001b[1;33m\u001b[0m\u001b[0m\n",
      "\u001b[1;32mC:\\MathLabASUS\\SW\\DM\\Anaconda2\\envs\\pyspark\\lib\\site-packages\\talos\\__init__.py\u001b[0m in \u001b[0;36m<module>\u001b[1;34m()\u001b[0m\n\u001b[0;32m      1\u001b[0m \u001b[1;31m# import commands\u001b[0m\u001b[1;33m\u001b[0m\u001b[1;33m\u001b[0m\u001b[0m\n\u001b[1;32m----> 2\u001b[1;33m \u001b[1;32mfrom\u001b[0m \u001b[1;33m.\u001b[0m\u001b[0mscan\u001b[0m\u001b[1;33m.\u001b[0m\u001b[0mScan\u001b[0m \u001b[1;32mimport\u001b[0m \u001b[0mScan\u001b[0m\u001b[1;33m\u001b[0m\u001b[0m\n\u001b[0m\u001b[0;32m      3\u001b[0m \u001b[1;32mfrom\u001b[0m \u001b[1;33m.\u001b[0m\u001b[0mcommands\u001b[0m\u001b[1;33m.\u001b[0m\u001b[0mreporting\u001b[0m \u001b[1;32mimport\u001b[0m \u001b[0mReporting\u001b[0m\u001b[1;33m\u001b[0m\u001b[0m\n\u001b[0;32m      4\u001b[0m \u001b[1;32mfrom\u001b[0m \u001b[1;33m.\u001b[0m\u001b[0mcommands\u001b[0m\u001b[1;33m.\u001b[0m\u001b[0mpredict\u001b[0m \u001b[1;32mimport\u001b[0m \u001b[0mPredict\u001b[0m\u001b[1;33m\u001b[0m\u001b[0m\n\u001b[0;32m      5\u001b[0m \u001b[1;32mfrom\u001b[0m \u001b[1;33m.\u001b[0m\u001b[0mcommands\u001b[0m\u001b[1;33m.\u001b[0m\u001b[0mdeploy\u001b[0m \u001b[1;32mimport\u001b[0m \u001b[0mDeploy\u001b[0m\u001b[1;33m\u001b[0m\u001b[0m\n",
      "\u001b[1;32mC:\\MathLabASUS\\SW\\DM\\Anaconda2\\envs\\pyspark\\lib\\site-packages\\talos\\scan\\Scan.py\u001b[0m in \u001b[0;36m<module>\u001b[1;34m()\u001b[0m\n\u001b[0;32m      1\u001b[0m \u001b[1;32mfrom\u001b[0m \u001b[0mcollections\u001b[0m \u001b[1;32mimport\u001b[0m \u001b[0mOrderedDict\u001b[0m\u001b[1;33m\u001b[0m\u001b[0m\n\u001b[0;32m      2\u001b[0m \u001b[1;33m\u001b[0m\u001b[0m\n\u001b[1;32m----> 3\u001b[1;33m \u001b[1;32mfrom\u001b[0m \u001b[1;33m.\u001b[0m\u001b[0mscan_prepare\u001b[0m \u001b[1;32mimport\u001b[0m \u001b[0mscan_prepare\u001b[0m\u001b[1;33m\u001b[0m\u001b[0m\n\u001b[0m\u001b[0;32m      4\u001b[0m \u001b[1;32mfrom\u001b[0m \u001b[1;33m.\u001b[0m\u001b[0mscan_run\u001b[0m \u001b[1;32mimport\u001b[0m \u001b[0mscan_run\u001b[0m\u001b[1;33m\u001b[0m\u001b[0m\n\u001b[0;32m      5\u001b[0m \u001b[1;33m\u001b[0m\u001b[0m\n",
      "\u001b[1;32mC:\\MathLabASUS\\SW\\DM\\Anaconda2\\envs\\pyspark\\lib\\site-packages\\talos\\scan\\scan_prepare.py\u001b[0m in \u001b[0;36m<module>\u001b[1;34m()\u001b[0m\n\u001b[0;32m      2\u001b[0m \u001b[1;32mfrom\u001b[0m \u001b[0mdatetime\u001b[0m \u001b[1;32mimport\u001b[0m \u001b[0mdatetime\u001b[0m\u001b[1;33m\u001b[0m\u001b[0m\n\u001b[0;32m      3\u001b[0m \u001b[1;33m\u001b[0m\u001b[0m\n\u001b[1;32m----> 4\u001b[1;33m \u001b[1;32mfrom\u001b[0m \u001b[1;33m.\u001b[0m\u001b[1;33m.\u001b[0m\u001b[0mutils\u001b[0m\u001b[1;33m.\u001b[0m\u001b[0mvalidation_split\u001b[0m \u001b[1;32mimport\u001b[0m \u001b[0mvalidation_split\u001b[0m\u001b[1;33m\u001b[0m\u001b[0m\n\u001b[0m\u001b[0;32m      5\u001b[0m \u001b[1;32mfrom\u001b[0m \u001b[1;33m.\u001b[0m\u001b[1;33m.\u001b[0m\u001b[0mutils\u001b[0m\u001b[1;33m.\u001b[0m\u001b[0mdetector\u001b[0m \u001b[1;32mimport\u001b[0m \u001b[0mprediction_type\u001b[0m\u001b[1;33m\u001b[0m\u001b[0m\n\u001b[0;32m      6\u001b[0m \u001b[1;32mfrom\u001b[0m \u001b[1;33m.\u001b[0m\u001b[1;33m.\u001b[0m\u001b[0mparameters\u001b[0m\u001b[1;33m.\u001b[0m\u001b[0mParamGrid\u001b[0m \u001b[1;32mimport\u001b[0m \u001b[0mParamGrid\u001b[0m\u001b[1;33m\u001b[0m\u001b[0m\n",
      "\u001b[1;32mC:\\MathLabASUS\\SW\\DM\\Anaconda2\\envs\\pyspark\\lib\\site-packages\\talos\\utils\\__init__.py\u001b[0m in \u001b[0;36m<module>\u001b[1;34m()\u001b[0m\n\u001b[0;32m      2\u001b[0m \u001b[1;33m\u001b[0m\u001b[0m\n\u001b[0;32m      3\u001b[0m \u001b[1;32mtry\u001b[0m\u001b[1;33m:\u001b[0m\u001b[1;33m\u001b[0m\u001b[0m\n\u001b[1;32m----> 4\u001b[1;33m     \u001b[1;32mfrom\u001b[0m \u001b[0mkerasplotlib\u001b[0m \u001b[1;32mimport\u001b[0m \u001b[0mTrainingLog\u001b[0m \u001b[1;32mas\u001b[0m \u001b[0mlive\u001b[0m\u001b[1;33m\u001b[0m\u001b[0m\n\u001b[0m\u001b[0;32m      5\u001b[0m \u001b[1;32mexcept\u001b[0m \u001b[0mImportError\u001b[0m\u001b[1;33m:\u001b[0m\u001b[1;33m\u001b[0m\u001b[0m\n\u001b[0;32m      6\u001b[0m     \u001b[1;32mprint\u001b[0m\u001b[1;33m(\u001b[0m\u001b[1;34m'Matplotlib backend loading failed'\u001b[0m\u001b[1;33m)\u001b[0m\u001b[1;33m\u001b[0m\u001b[0m\n",
      "\u001b[1;32mC:\\MathLabASUS\\SW\\DM\\Anaconda2\\envs\\pyspark\\lib\\site-packages\\kerasplotlib\\__init__.py\u001b[0m in \u001b[0;36m<module>\u001b[1;34m()\u001b[0m\n\u001b[1;32m----> 1\u001b[1;33m \u001b[1;32mfrom\u001b[0m \u001b[0mkerasplotlib\u001b[0m\u001b[1;33m.\u001b[0m\u001b[0mtraininglog\u001b[0m \u001b[1;32mimport\u001b[0m \u001b[0mTrainingLog\u001b[0m\u001b[1;33m\u001b[0m\u001b[0m\n\u001b[0m\u001b[0;32m      2\u001b[0m \u001b[1;33m\u001b[0m\u001b[0m\n\u001b[0;32m      3\u001b[0m \u001b[0m__version__\u001b[0m \u001b[1;33m=\u001b[0m \u001b[1;34m\"0.1.4\"\u001b[0m\u001b[1;33m\u001b[0m\u001b[0m\n",
      "\u001b[1;32mC:\\MathLabASUS\\SW\\DM\\Anaconda2\\envs\\pyspark\\lib\\site-packages\\kerasplotlib\\traininglog.py\u001b[0m in \u001b[0;36m<module>\u001b[1;34m()\u001b[0m\n\u001b[0;32m      6\u001b[0m \u001b[1;32mfrom\u001b[0m \u001b[0mIPython\u001b[0m\u001b[1;33m.\u001b[0m\u001b[0mdisplay\u001b[0m \u001b[1;32mimport\u001b[0m \u001b[0mclear_output\u001b[0m\u001b[1;33m\u001b[0m\u001b[0m\n\u001b[0;32m      7\u001b[0m \u001b[1;33m\u001b[0m\u001b[0m\n\u001b[1;32m----> 8\u001b[1;33m \u001b[1;32mfrom\u001b[0m \u001b[0mkeras\u001b[0m\u001b[1;33m.\u001b[0m\u001b[0mcallbacks\u001b[0m \u001b[1;32mimport\u001b[0m \u001b[0mCallback\u001b[0m\u001b[1;33m\u001b[0m\u001b[0m\n\u001b[0m\u001b[0;32m      9\u001b[0m \u001b[1;33m\u001b[0m\u001b[0m\n\u001b[0;32m     10\u001b[0m \u001b[1;32mdef\u001b[0m \u001b[0mloss2name\u001b[0m\u001b[1;33m(\u001b[0m\u001b[0mloss\u001b[0m\u001b[1;33m)\u001b[0m\u001b[1;33m:\u001b[0m\u001b[1;33m\u001b[0m\u001b[0m\n",
      "\u001b[1;32mC:\\MathLabASUS\\SW\\DM\\Anaconda2\\envs\\pyspark\\lib\\site-packages\\keras\\__init__.py\u001b[0m in \u001b[0;36m<module>\u001b[1;34m()\u001b[0m\n\u001b[0;32m      1\u001b[0m \u001b[1;32mfrom\u001b[0m \u001b[0m__future__\u001b[0m \u001b[1;32mimport\u001b[0m \u001b[0mabsolute_import\u001b[0m\u001b[1;33m\u001b[0m\u001b[0m\n\u001b[0;32m      2\u001b[0m \u001b[1;33m\u001b[0m\u001b[0m\n\u001b[1;32m----> 3\u001b[1;33m \u001b[1;32mfrom\u001b[0m \u001b[1;33m.\u001b[0m \u001b[1;32mimport\u001b[0m \u001b[0mutils\u001b[0m\u001b[1;33m\u001b[0m\u001b[0m\n\u001b[0m\u001b[0;32m      4\u001b[0m \u001b[1;32mfrom\u001b[0m \u001b[1;33m.\u001b[0m \u001b[1;32mimport\u001b[0m \u001b[0mactivations\u001b[0m\u001b[1;33m\u001b[0m\u001b[0m\n\u001b[0;32m      5\u001b[0m \u001b[1;32mfrom\u001b[0m \u001b[1;33m.\u001b[0m \u001b[1;32mimport\u001b[0m \u001b[0mapplications\u001b[0m\u001b[1;33m\u001b[0m\u001b[0m\n",
      "\u001b[1;32mC:\\MathLabASUS\\SW\\DM\\Anaconda2\\envs\\pyspark\\lib\\site-packages\\keras\\utils\\__init__.py\u001b[0m in \u001b[0;36m<module>\u001b[1;34m()\u001b[0m\n\u001b[0;32m      4\u001b[0m \u001b[1;32mfrom\u001b[0m \u001b[1;33m.\u001b[0m \u001b[1;32mimport\u001b[0m \u001b[0mdata_utils\u001b[0m\u001b[1;33m\u001b[0m\u001b[0m\n\u001b[0;32m      5\u001b[0m \u001b[1;32mfrom\u001b[0m \u001b[1;33m.\u001b[0m \u001b[1;32mimport\u001b[0m \u001b[0mio_utils\u001b[0m\u001b[1;33m\u001b[0m\u001b[0m\n\u001b[1;32m----> 6\u001b[1;33m \u001b[1;32mfrom\u001b[0m \u001b[1;33m.\u001b[0m \u001b[1;32mimport\u001b[0m \u001b[0mconv_utils\u001b[0m\u001b[1;33m\u001b[0m\u001b[0m\n\u001b[0m\u001b[0;32m      7\u001b[0m \u001b[1;33m\u001b[0m\u001b[0m\n\u001b[0;32m      8\u001b[0m \u001b[1;31m# Globally-importable utils.\u001b[0m\u001b[1;33m\u001b[0m\u001b[1;33m\u001b[0m\u001b[0m\n",
      "\u001b[1;32mC:\\MathLabASUS\\SW\\DM\\Anaconda2\\envs\\pyspark\\lib\\site-packages\\keras\\utils\\conv_utils.py\u001b[0m in \u001b[0;36m<module>\u001b[1;34m()\u001b[0m\n\u001b[0;32m      7\u001b[0m \u001b[1;32mfrom\u001b[0m \u001b[0msix\u001b[0m\u001b[1;33m.\u001b[0m\u001b[0mmoves\u001b[0m \u001b[1;32mimport\u001b[0m \u001b[0mrange\u001b[0m\u001b[1;33m\u001b[0m\u001b[0m\n\u001b[0;32m      8\u001b[0m \u001b[1;32mimport\u001b[0m \u001b[0mnumpy\u001b[0m \u001b[1;32mas\u001b[0m \u001b[0mnp\u001b[0m\u001b[1;33m\u001b[0m\u001b[0m\n\u001b[1;32m----> 9\u001b[1;33m \u001b[1;32mfrom\u001b[0m \u001b[1;33m.\u001b[0m\u001b[1;33m.\u001b[0m \u001b[1;32mimport\u001b[0m \u001b[0mbackend\u001b[0m \u001b[1;32mas\u001b[0m \u001b[0mK\u001b[0m\u001b[1;33m\u001b[0m\u001b[0m\n\u001b[0m\u001b[0;32m     10\u001b[0m \u001b[1;33m\u001b[0m\u001b[0m\n\u001b[0;32m     11\u001b[0m \u001b[1;33m\u001b[0m\u001b[0m\n",
      "\u001b[1;32mC:\\MathLabASUS\\SW\\DM\\Anaconda2\\envs\\pyspark\\lib\\site-packages\\keras\\backend\\__init__.py\u001b[0m in \u001b[0;36m<module>\u001b[1;34m()\u001b[0m\n\u001b[0;32m     84\u001b[0m \u001b[1;32melif\u001b[0m \u001b[0m_BACKEND\u001b[0m \u001b[1;33m==\u001b[0m \u001b[1;34m'theano'\u001b[0m\u001b[1;33m:\u001b[0m\u001b[1;33m\u001b[0m\u001b[0m\n\u001b[0;32m     85\u001b[0m     \u001b[0msys\u001b[0m\u001b[1;33m.\u001b[0m\u001b[0mstderr\u001b[0m\u001b[1;33m.\u001b[0m\u001b[0mwrite\u001b[0m\u001b[1;33m(\u001b[0m\u001b[1;34m'Using Theano backend.\\n'\u001b[0m\u001b[1;33m)\u001b[0m\u001b[1;33m\u001b[0m\u001b[0m\n\u001b[1;32m---> 86\u001b[1;33m     \u001b[1;32mfrom\u001b[0m \u001b[1;33m.\u001b[0m\u001b[0mtheano_backend\u001b[0m \u001b[1;32mimport\u001b[0m \u001b[1;33m*\u001b[0m\u001b[1;33m\u001b[0m\u001b[0m\n\u001b[0m\u001b[0;32m     87\u001b[0m \u001b[1;32melif\u001b[0m \u001b[0m_BACKEND\u001b[0m \u001b[1;33m==\u001b[0m \u001b[1;34m'tensorflow'\u001b[0m\u001b[1;33m:\u001b[0m\u001b[1;33m\u001b[0m\u001b[0m\n\u001b[0;32m     88\u001b[0m     \u001b[0msys\u001b[0m\u001b[1;33m.\u001b[0m\u001b[0mstderr\u001b[0m\u001b[1;33m.\u001b[0m\u001b[0mwrite\u001b[0m\u001b[1;33m(\u001b[0m\u001b[1;34m'Using TensorFlow backend.\\n'\u001b[0m\u001b[1;33m)\u001b[0m\u001b[1;33m\u001b[0m\u001b[0m\n",
      "\u001b[1;32mC:\\MathLabASUS\\SW\\DM\\Anaconda2\\envs\\pyspark\\lib\\site-packages\\keras\\backend\\theano_backend.py\u001b[0m in \u001b[0;36m<module>\u001b[1;34m()\u001b[0m\n\u001b[0;32m      5\u001b[0m \u001b[1;32mfrom\u001b[0m \u001b[0mcollections\u001b[0m \u001b[1;32mimport\u001b[0m \u001b[0mdefaultdict\u001b[0m\u001b[1;33m\u001b[0m\u001b[0m\n\u001b[0;32m      6\u001b[0m \u001b[1;32mfrom\u001b[0m \u001b[0mcontextlib\u001b[0m \u001b[1;32mimport\u001b[0m \u001b[0mcontextmanager\u001b[0m\u001b[1;33m\u001b[0m\u001b[0m\n\u001b[1;32m----> 7\u001b[1;33m \u001b[1;32mimport\u001b[0m \u001b[0mtheano\u001b[0m\u001b[1;33m\u001b[0m\u001b[0m\n\u001b[0m\u001b[0;32m      8\u001b[0m \u001b[1;32mfrom\u001b[0m \u001b[0mtheano\u001b[0m \u001b[1;32mimport\u001b[0m \u001b[0mtensor\u001b[0m \u001b[1;32mas\u001b[0m \u001b[0mT\u001b[0m\u001b[1;33m\u001b[0m\u001b[0m\n\u001b[0;32m      9\u001b[0m \u001b[1;32mfrom\u001b[0m \u001b[0mtheano\u001b[0m\u001b[1;33m.\u001b[0m\u001b[0msandbox\u001b[0m\u001b[1;33m.\u001b[0m\u001b[0mrng_mrg\u001b[0m \u001b[1;32mimport\u001b[0m \u001b[0mMRG_RandomStreams\u001b[0m \u001b[1;32mas\u001b[0m \u001b[0mRandomStreams\u001b[0m\u001b[1;33m\u001b[0m\u001b[0m\n",
      "\u001b[1;32mC:\\MathLabASUS\\SW\\DM\\Anaconda2\\envs\\pyspark\\lib\\site-packages\\theano\\__init__.pyc\u001b[0m in \u001b[0;36m<module>\u001b[1;34m()\u001b[0m\n\u001b[0;32m    108\u001b[0m     object2, utils)\n\u001b[0;32m    109\u001b[0m \u001b[1;33m\u001b[0m\u001b[0m\n\u001b[1;32m--> 110\u001b[1;33m from theano.compile import (\n\u001b[0m\u001b[0;32m    111\u001b[0m     \u001b[0mSymbolicInput\u001b[0m\u001b[1;33m,\u001b[0m \u001b[0mIn\u001b[0m\u001b[1;33m,\u001b[0m\u001b[1;33m\u001b[0m\u001b[0m\n\u001b[0;32m    112\u001b[0m     \u001b[0mSymbolicOutput\u001b[0m\u001b[1;33m,\u001b[0m \u001b[0mOut\u001b[0m\u001b[1;33m,\u001b[0m\u001b[1;33m\u001b[0m\u001b[0m\n",
      "\u001b[1;32mC:\\MathLabASUS\\SW\\DM\\Anaconda2\\envs\\pyspark\\lib\\site-packages\\theano\\compile\\__init__.py\u001b[0m in \u001b[0;36m<module>\u001b[1;34m()\u001b[0m\n\u001b[0;32m     10\u001b[0m \u001b[1;32mfrom\u001b[0m \u001b[0mtheano\u001b[0m\u001b[1;33m.\u001b[0m\u001b[0mcompile\u001b[0m\u001b[1;33m.\u001b[0m\u001b[0mfunction_module\u001b[0m \u001b[1;32mimport\u001b[0m \u001b[1;33m*\u001b[0m\u001b[1;33m\u001b[0m\u001b[0m\n\u001b[0;32m     11\u001b[0m \u001b[1;33m\u001b[0m\u001b[0m\n\u001b[1;32m---> 12\u001b[1;33m \u001b[1;32mfrom\u001b[0m \u001b[0mtheano\u001b[0m\u001b[1;33m.\u001b[0m\u001b[0mcompile\u001b[0m\u001b[1;33m.\u001b[0m\u001b[0mmode\u001b[0m \u001b[1;32mimport\u001b[0m \u001b[1;33m*\u001b[0m\u001b[1;33m\u001b[0m\u001b[0m\n\u001b[0m\u001b[0;32m     13\u001b[0m \u001b[1;33m\u001b[0m\u001b[0m\n\u001b[0;32m     14\u001b[0m \u001b[1;32mfrom\u001b[0m \u001b[0mtheano\u001b[0m\u001b[1;33m.\u001b[0m\u001b[0mcompile\u001b[0m\u001b[1;33m.\u001b[0m\u001b[0mio\u001b[0m \u001b[1;32mimport\u001b[0m \u001b[1;33m*\u001b[0m\u001b[1;33m\u001b[0m\u001b[0m\n",
      "\u001b[1;32mC:\\MathLabASUS\\SW\\DM\\Anaconda2\\envs\\pyspark\\lib\\site-packages\\theano\\compile\\mode.py\u001b[0m in \u001b[0;36m<module>\u001b[1;34m()\u001b[0m\n\u001b[0;32m      9\u001b[0m \u001b[1;32mimport\u001b[0m \u001b[0mtheano\u001b[0m\u001b[1;33m\u001b[0m\u001b[0m\n\u001b[0;32m     10\u001b[0m \u001b[1;32mfrom\u001b[0m \u001b[0mtheano\u001b[0m \u001b[1;32mimport\u001b[0m \u001b[0mgof\u001b[0m\u001b[1;33m\u001b[0m\u001b[0m\n\u001b[1;32m---> 11\u001b[1;33m \u001b[1;32mimport\u001b[0m \u001b[0mtheano\u001b[0m\u001b[1;33m.\u001b[0m\u001b[0mgof\u001b[0m\u001b[1;33m.\u001b[0m\u001b[0mvm\u001b[0m\u001b[1;33m\u001b[0m\u001b[0m\n\u001b[0m\u001b[0;32m     12\u001b[0m \u001b[1;32mfrom\u001b[0m \u001b[0mtheano\u001b[0m \u001b[1;32mimport\u001b[0m \u001b[0mconfig\u001b[0m\u001b[1;33m\u001b[0m\u001b[0m\n\u001b[0;32m     13\u001b[0m \u001b[1;32mfrom\u001b[0m \u001b[0msix\u001b[0m \u001b[1;32mimport\u001b[0m \u001b[0mstring_types\u001b[0m\u001b[1;33m\u001b[0m\u001b[0m\n",
      "\u001b[1;32mC:\\MathLabASUS\\SW\\DM\\Anaconda2\\envs\\pyspark\\lib\\site-packages\\theano\\gof\\vm.py\u001b[0m in \u001b[0;36m<module>\u001b[1;34m()\u001b[0m\n\u001b[0;32m    672\u001b[0m     \u001b[1;32mif\u001b[0m \u001b[1;32mnot\u001b[0m \u001b[0mtheano\u001b[0m\u001b[1;33m.\u001b[0m\u001b[0mconfig\u001b[0m\u001b[1;33m.\u001b[0m\u001b[0mcxx\u001b[0m\u001b[1;33m:\u001b[0m\u001b[1;33m\u001b[0m\u001b[0m\n\u001b[0;32m    673\u001b[0m         \u001b[1;32mraise\u001b[0m \u001b[0mtheano\u001b[0m\u001b[1;33m.\u001b[0m\u001b[0mgof\u001b[0m\u001b[1;33m.\u001b[0m\u001b[0mcmodule\u001b[0m\u001b[1;33m.\u001b[0m\u001b[0mMissingGXX\u001b[0m\u001b[1;33m(\u001b[0m\u001b[1;34m'lazylinker will not be imported if theano.config.cxx is not set.'\u001b[0m\u001b[1;33m)\u001b[0m\u001b[1;33m\u001b[0m\u001b[0m\n\u001b[1;32m--> 674\u001b[1;33m     \u001b[1;32mfrom\u001b[0m \u001b[1;33m.\u001b[0m \u001b[1;32mimport\u001b[0m \u001b[0mlazylinker_c\u001b[0m\u001b[1;33m\u001b[0m\u001b[0m\n\u001b[0m\u001b[0;32m    675\u001b[0m \u001b[1;33m\u001b[0m\u001b[0m\n\u001b[0;32m    676\u001b[0m     \u001b[1;32mclass\u001b[0m \u001b[0mCVM\u001b[0m\u001b[1;33m(\u001b[0m\u001b[0mlazylinker_c\u001b[0m\u001b[1;33m.\u001b[0m\u001b[0mCLazyLinker\u001b[0m\u001b[1;33m,\u001b[0m \u001b[0mVM\u001b[0m\u001b[1;33m)\u001b[0m\u001b[1;33m:\u001b[0m\u001b[1;33m\u001b[0m\u001b[0m\n",
      "\u001b[1;32mC:\\MathLabASUS\\SW\\DM\\Anaconda2\\envs\\pyspark\\lib\\site-packages\\theano\\gof\\lazylinker_c.py\u001b[0m in \u001b[0;36m<module>\u001b[1;34m()\u001b[0m\n\u001b[0;32m    138\u001b[0m             \u001b[0margs\u001b[0m \u001b[1;33m=\u001b[0m \u001b[0mcmodule\u001b[0m\u001b[1;33m.\u001b[0m\u001b[0mGCC_compiler\u001b[0m\u001b[1;33m.\u001b[0m\u001b[0mcompile_args\u001b[0m\u001b[1;33m(\u001b[0m\u001b[1;33m)\u001b[0m\u001b[1;33m\u001b[0m\u001b[0m\n\u001b[0;32m    139\u001b[0m             cmodule.GCC_compiler.compile_str(dirname, code, location=loc,\n\u001b[1;32m--> 140\u001b[1;33m                                              preargs=args)\n\u001b[0m\u001b[0;32m    141\u001b[0m             \u001b[1;31m# Save version into the __init__.py file.\u001b[0m\u001b[1;33m\u001b[0m\u001b[1;33m\u001b[0m\u001b[0m\n\u001b[0;32m    142\u001b[0m             \u001b[0minit_py\u001b[0m \u001b[1;33m=\u001b[0m \u001b[0mos\u001b[0m\u001b[1;33m.\u001b[0m\u001b[0mpath\u001b[0m\u001b[1;33m.\u001b[0m\u001b[0mjoin\u001b[0m\u001b[1;33m(\u001b[0m\u001b[0mloc\u001b[0m\u001b[1;33m,\u001b[0m \u001b[1;34m'__init__.py'\u001b[0m\u001b[1;33m)\u001b[0m\u001b[1;33m\u001b[0m\u001b[0m\n",
      "\u001b[1;32mC:\\MathLabASUS\\SW\\DM\\Anaconda2\\envs\\pyspark\\lib\\site-packages\\theano\\gof\\cmodule.pyc\u001b[0m in \u001b[0;36mcompile_str\u001b[1;34m(module_name, src_code, location, include_dirs, lib_dirs, libs, preargs, py_module, hide_symbols)\u001b[0m\n\u001b[0;32m   2394\u001b[0m             \u001b[1;31m# difficult to read.\u001b[0m\u001b[1;33m\u001b[0m\u001b[1;33m\u001b[0m\u001b[0m\n\u001b[0;32m   2395\u001b[0m             raise Exception('Compilation failed (return status=%s): %s' %\n\u001b[1;32m-> 2396\u001b[1;33m                             (status, compile_stderr.replace('\\n', '. ')))\n\u001b[0m\u001b[0;32m   2397\u001b[0m         \u001b[1;32melif\u001b[0m \u001b[0mconfig\u001b[0m\u001b[1;33m.\u001b[0m\u001b[0mcmodule\u001b[0m\u001b[1;33m.\u001b[0m\u001b[0mcompilation_warning\u001b[0m \u001b[1;32mand\u001b[0m \u001b[0mcompile_stderr\u001b[0m\u001b[1;33m:\u001b[0m\u001b[1;33m\u001b[0m\u001b[0m\n\u001b[0;32m   2398\u001b[0m             \u001b[1;31m# Print errors just below the command line.\u001b[0m\u001b[1;33m\u001b[0m\u001b[1;33m\u001b[0m\u001b[0m\n",
      "\u001b[1;31mException\u001b[0m: Compilation failed (return status=1): C:\\Users\\Laura\\AppData\\Local\\Temp\\ccUvn8e6.o: In function `unpack_list_of_ssize_t':\r. C:/Users/Laura/AppData/Local/Theano/compiledir_Windows-10-10.0.17763-Intel64_Family_6_Model_142_Stepping_9_GenuineIntel-2.7.14-64/lazylinker_ext/mod.cpp:48: undefined reference to `__imp_PyExc_TypeError'\r. C:/Users/Laura/AppData/Local/Theano/compiledir_Windows-10-10.0.17763-Intel64_Family_6_Model_142_Stepping_9_GenuineIntel-2.7.14-64/lazylinker_ext/mod.cpp:58: undefined reference to `__imp_PyExc_IndexError'\r. C:\\Users\\Laura\\AppData\\Local\\Temp\\ccUvn8e6.o: In function `CLazyLinker_init':\r. C:/Users/Laura/AppData/Local/Theano/compiledir_Windows-10-10.0.17763-Intel64_Family_6_Model_142_Stepping_9_GenuineIntel-2.7.14-64/lazylinker_ext/mod.cpp:331: undefined reference to `__imp_PyCObject_Type'\r. C:/Users/Laura/AppData/Local/Theano/compiledir_Windows-10-10.0.17763-Intel64_Family_6_Model_142_Stepping_9_GenuineIntel-2.7.14-64/lazylinker_ext/mod.cpp:352: undefined reference to `__imp_PyExc_IndexError'\r. C:/Users/Laura/AppData/Local/Theano/compiledir_Windows-10-10.0.17763-Intel64_Family_6_Model_142_Stepping_9_GenuineIntel-2.7.14-64/lazylinker_ext/mod.cpp:370: undefined reference to `__imp_PyExc_IndexError'\r. C:/Users/Laura/AppData/Local/Theano/compiledir_Windows-10-10.0.17763-Intel64_Family_6_Model_142_Stepping_9_GenuineIntel-2.7.14-64/lazylinker_ext/mod.cpp:385: undefined reference to `__imp_PyExc_IndexError'\r. C:/Users/Laura/AppData/Local/Theano/compiledir_Windows-10-10.0.17763-Intel64_Family_6_Model_142_Stepping_9_GenuineIntel-2.7.14-64/lazylinker_ext/mod.cpp:389: undefined reference to `__imp_PyExc_IndexError'\r. C:/Users/Laura/AppData/Local/Theano/compiledir_Windows-10-10.0.17763-Intel64_Family_6_Model_142_Stepping_9_GenuineIntel-2.7.14-64/lazylinker_ext/mod.cpp:393: undefined reference to `__imp_PyExc_IndexError'\r. C:\\Users\\Laura\\AppData\\Local\\Temp\\ccUvn8e6.o:C:/Users/Laura/AppData/Local/Theano/compiledir_Windows-10-10.0.17763-Intel64_Family_6_Model_142_Stepping_9_GenuineIntel-2.7.14-64/lazylinker_ext/mod.cpp:397: more undefined references to `__imp_PyExc_IndexError' follow\r. C:\\Users\\Laura\\AppData\\Local\\Temp\\ccUvn8e6.o: In function `CLazyLinker_init':\r. C:/Users/Laura/AppData/Local/Theano/compiledir_Windows-10-10.0.17763-Intel64_Family_6_Model_142_Stepping_9_GenuineIntel-2.7.14-64/lazylinker_ext/mod.cpp:405: undefined reference to `__imp_PyExc_TypeError'\r. C:/Users/Laura/AppData/Local/Theano/compiledir_Windows-10-10.0.17763-Intel64_Family_6_Model_142_Stepping_9_GenuineIntel-2.7.14-64/lazylinker_ext/mod.cpp:420: undefined reference to `__imp__Py_NoneStruct'\r. C:/Users/Laura/AppData/Local/Theano/compiledir_Windows-10-10.0.17763-Intel64_Family_6_Model_142_Stepping_9_GenuineIntel-2.7.14-64/lazylinker_ext/mod.cpp:426: undefined reference to `__imp_PyExc_IndexError'\r. C:/Users/Laura/AppData/Local/Theano/compiledir_Windows-10-10.0.17763-Intel64_Family_6_Model_142_Stepping_9_GenuineIntel-2.7.14-64/lazylinker_ext/mod.cpp:440: undefined reference to `__imp_PyExc_TypeError'\r. C:/Users/Laura/AppData/Local/Theano/compiledir_Windows-10-10.0.17763-Intel64_Family_6_Model_142_Stepping_9_GenuineIntel-2.7.14-64/lazylinker_ext/mod.cpp:444: undefined reference to `__imp__Py_NoneStruct'\r. C:\\Users\\Laura\\AppData\\Local\\Temp\\ccUvn8e6.o: In function `c_call':\r. C:/Users/Laura/AppData/Local/Theano/compiledir_Windows-10-10.0.17763-Intel64_Family_6_Model_142_Stepping_9_GenuineIntel-2.7.14-64/lazylinker_ext/mod.cpp:545: undefined reference to `__imp__Py_NoneStruct'\r. C:/Users/Laura/AppData/Local/Theano/compiledir_Windows-10-10.0.17763-Intel64_Family_6_Model_142_Stepping_9_GenuineIntel-2.7.14-64/lazylinker_ext/mod.cpp:545: undefined reference to `__imp__Py_NoneStruct'\r. C:/Users/Laura/AppData/Local/Theano/compiledir_Windows-10-10.0.17763-Intel64_Family_6_Model_142_Stepping_9_GenuineIntel-2.7.14-64/lazylinker_ext/mod.cpp:545: undefined reference to `__imp__Py_NoneStruct'\r. C:/Users/Laura/AppData/Local/Theano/compiledir_Windows-10-10.0.17763-Intel64_Family_6_Model_142_Stepping_9_GenuineIntel-2.7.14-64/lazylinker_ext/mod.cpp:546: undefined reference to `__imp__Py_NoneStruct'\r. C:\\Users\\Laura\\AppData\\Local\\Temp\\ccUvn8e6.o:C:/Users/Laura/AppData/Local/Theano/compiledir_Windows-10-10.0.17763-Intel64_Family_6_Model_142_Stepping_9_GenuineIntel-2.7.14-64/lazylinker_ext/mod.cpp:546: more undefined references to `__imp__Py_NoneStruct' follow\r. C:\\Users\\Laura\\AppData\\Local\\Temp\\ccUvn8e6.o: In function `lazy_rec_eval':\r. C:/Users/Laura/AppData/Local/Theano/compiledir_Windows-10-10.0.17763-Intel64_Family_6_Model_142_Stepping_9_GenuineIntel-2.7.14-64/lazylinker_ext/mod.cpp:618: undefined reference to `__imp_PyExc_IndexError'\r. C:/Users/Laura/AppData/Local/Theano/compiledir_Windows-10-10.0.17763-Intel64_Family_6_Model_142_Stepping_9_GenuineIntel-2.7.14-64/lazylinker_ext/mod.cpp:641: undefined reference to `__imp_PyExc_TypeError'\r. C:/Users/Laura/AppData/Local/Theano/compiledir_Windows-10-10.0.17763-Intel64_Family_6_Model_142_Stepping_9_GenuineIntel-2.7.14-64/lazylinker_ext/mod.cpp:649: undefined reference to `__imp_PyExc_ValueError'\r. C:/Users/Laura/AppData/Local/Theano/compiledir_Windows-10-10.0.17763-Intel64_Family_6_Model_142_Stepping_9_GenuineIntel-2.7.14-64/lazylinker_ext/mod.cpp:657: undefined reference to `__imp_PyExc_IndexError'\r. C:/Users/Laura/AppData/Local/Theano/compiledir_Windows-10-10.0.17763-Intel64_Family_6_Model_142_Stepping_9_GenuineIntel-2.7.14-64/lazylinker_ext/mod.cpp:708: undefined reference to `__imp__Py_NoneStruct'\r. C:/Users/Laura/AppData/Local/Theano/compiledir_Windows-10-10.0.17763-Intel64_Family_6_Model_142_Stepping_9_GenuineIntel-2.7.14-64/lazylinker_ext/mod.cpp:715: undefined reference to `__imp_PyExc_TypeError'\r. C:/Users/Laura/AppData/Local/Theano/compiledir_Windows-10-10.0.17763-Intel64_Family_6_Model_142_Stepping_9_GenuineIntel-2.7.14-64/lazylinker_ext/mod.cpp:721: undefined reference to `__imp_PyExc_TypeError'\r. C:/Users/Laura/AppData/Local/Theano/compiledir_Windows-10-10.0.17763-Intel64_Family_6_Model_142_Stepping_9_GenuineIntel-2.7.14-64/lazylinker_ext/mod.cpp:771: undefined reference to `__imp__Py_NoneStruct'\r. C:/Users/Laura/AppData/Local/Theano/compiledir_Windows-10-10.0.17763-Intel64_Family_6_Model_142_Stepping_9_GenuineIntel-2.7.14-64/lazylinker_ext/mod.cpp:771: undefined reference to `__imp__Py_NoneStruct'\r. C:/Users/Laura/AppData/Local/Theano/compiledir_Windows-10-10.0.17763-Intel64_Family_6_Model_142_Stepping_9_GenuineIntel-2.7.14-64/lazylinker_ext/mod.cpp:772: undefined reference to `__imp__Py_NoneStruct'\r. C:\\Users\\Laura\\AppData\\Local\\Temp\\ccUvn8e6.o: In function `CLazyLinker_call':\r. C:/Users/Laura/AppData/Local/Theano/compiledir_Windows-10-10.0.17763-Intel64_Family_6_Model_142_Stepping_9_GenuineIntel-2.7.14-64/lazylinker_ext/mod.cpp:814: undefined reference to `__imp_PyExc_RuntimeError'\r. C:/Users/Laura/AppData/Local/Theano/compiledir_Windows-10-10.0.17763-Intel64_Family_6_Model_142_Stepping_9_GenuineIntel-2.7.14-64/lazylinker_ext/mod.cpp:826: undefined reference to `__imp_PyExc_RuntimeError'\r. C:/Users/Laura/AppData/Local/Theano/compiledir_Windows-10-10.0.17763-Intel64_Family_6_Model_142_Stepping_9_GenuineIntel-2.7.14-64/lazylinker_ext/mod.cpp:839: undefined reference to `__imp__Py_NoneStruct'\r. C:/Users/Laura/AppData/Local/Theano/compiledir_Windows-10-10.0.17763-Intel64_Family_6_Model_142_Stepping_9_GenuineIntel-2.7.14-64/lazylinker_ext/mod.cpp:839: undefined reference to `__imp__Py_NoneStruct'\r. C:/Users/Laura/AppData/Local/Theano/compiledir_Windows-10-10.0.17763-Intel64_Family_6_Model_142_Stepping_9_GenuineIntel-2.7.14-64/lazylinker_ext/mod.cpp:840: undefined reference to `__imp__Py_NoneStruct'\r. C:/Users/Laura/AppData/Local/Theano/compiledir_Windows-10-10.0.17763-Intel64_Family_6_Model_142_Stepping_9_GenuineIntel-2.7.14-64/lazylinker_ext/mod.cpp:849: undefined reference to `__imp__Py_NoneStruct'\r. C:/Users/Laura/AppData/Local/Theano/compiledir_Windows-10-10.0.17763-Intel64_Family_6_Model_142_Stepping_9_GenuineIntel-2.7.14-64/lazylinker_ext/mod.cpp:849: undefined reference to `__imp__Py_NoneStruct'\r. C:\\Users\\Laura\\AppData\\Local\\Temp\\ccUvn8e6.o:C:/Users/Laura/AppData/Local/Theano/compiledir_Windows-10-10.0.17763-Intel64_Family_6_Model_142_Stepping_9_GenuineIntel-2.7.14-64/lazylinker_ext/mod.cpp:850: more undefined references to `__imp__Py_NoneStruct' follow\r. C:\\Users\\Laura\\AppData\\Local\\Temp\\ccUvn8e6.o: In function `CLazyLinker_call':\r. C:/Users/Laura/AppData/Local/Theano/compiledir_Windows-10-10.0.17763-Intel64_Family_6_Model_142_Stepping_9_GenuineIntel-2.7.14-64/lazylinker_ext/mod.cpp:894: undefined reference to `__imp_PyExc_AssertionError'\r. C:/Users/Laura/AppData/Local/Theano/compiledir_Windows-10-10.0.17763-Intel64_Family_6_Model_142_Stepping_9_GenuineIntel-2.7.14-64/lazylinker_ext/mod.cpp:937: undefined reference to `__imp__Py_NoneStruct'\r. C:/Users/Laura/AppData/Local/Theano/compiledir_Windows-10-10.0.17763-Intel64_Family_6_Model_142_Stepping_9_GenuineIntel-2.7.14-64/lazylinker_ext/mod.cpp:937: undefined reference to `__imp__Py_NoneStruct'\r. C:/Users/Laura/AppData/Local/Theano/compiledir_Windows-10-10.0.17763-Intel64_Family_6_Model_142_Stepping_9_GenuineIntel-2.7.14-64/lazylinker_ext/mod.cpp:938: undefined reference to `__imp__Py_NoneStruct'\r. C:\\Users\\Laura\\AppData\\Local\\Temp\\ccUvn8e6.o: In function `CLazyLinker_set_allow_gc':\r. C:/Users/Laura/AppData/Local/Theano/compiledir_Windows-10-10.0.17763-Intel64_Family_6_Model_142_Stepping_9_GenuineIntel-2.7.14-64/lazylinker_ext/mod.cpp:973: undefined reference to `__imp_PyBool_Type'\r. C:/Users/Laura/AppData/Local/Theano/compiledir_Windows-10-10.0.17763-Intel64_Family_6_Model_142_Stepping_9_GenuineIntel-2.7.14-64/lazylinker_ext/mod.cpp:976: undefined reference to `__imp__Py_TrueStruct'\r. collect2.exe: error: ld returned 1 exit status\r. "
     ]
    }
   ],
   "source": [
    "import regex\n",
    "import csv\n",
    "import pandas as pd\n",
    "import spacy\n",
    "#from spacy.en import English\n",
    "from nltk import sent_tokenize, word_tokenize, RegexpTokenizer\n",
    "from nltk.corpus import stopwords\n",
    "import talos as ta\n",
    "#from sklearn.feature_extraction.stop_words import ENGLISH_STOP_WORDS as stopwords"
   ]
  },
  {
   "cell_type": "markdown",
   "metadata": {},
   "source": [
    "Modify file to include the following:\n",
    "    1. Keep capitalization and punctuation\n",
    "    2. Remove punctuation\n",
    "    3. Remove stopwords"
   ]
  },
  {
   "cell_type": "code",
   "execution_count": 228,
   "metadata": {
    "scrolled": true
   },
   "outputs": [],
   "source": [
    "airline_df = pd.read_csv(\"../data/raw/twitter-airline-sentiment/Tweets.csv\")"
   ]
  },
  {
   "cell_type": "markdown",
   "metadata": {},
   "source": [
    "Text contains stopwords and lowercase in \"doc\" column. Twitter handles and emoticons hashtags in \"text\" columns"
   ]
  },
  {
   "cell_type": "code",
   "execution_count": null,
   "metadata": {
    "collapsed": true
   },
   "outputs": [],
   "source": [
    "Experiment with the following: \n",
    "    1. Convert to lowercase\n",
    "    2. Remove twitter handles or names\n",
    "    3. Remove hashtags. Exract hashtags if needed at later stage.\n",
    "    4. Remove punctuation, numbers. Leave in stopwords (temporarily)\n",
    "\n",
    "To do at later stage:\n",
    "    1. Extract hashtags\n",
    "    2. Remove stopwords\n",
    "    3. Extract NER, lemmas\n",
    "    4. Encode using word2vec"
   ]
  },
  {
   "cell_type": "code",
   "execution_count": null,
   "metadata": {
    "collapsed": true
   },
   "outputs": [],
   "source": [
    "#### Process unicode characters and convert to ascii"
   ]
  },
  {
   "cell_type": "code",
   "execution_count": 229,
   "metadata": {
    "collapsed": true,
    "scrolled": false
   },
   "outputs": [],
   "source": [
    "text = airline_df[\"text\"].str.decode(\"utf-8\").str.encode(\"ascii\", \\\n",
    "                                                         \"xmlcharrefreplace\")"
   ]
  },
  {
   "cell_type": "code",
   "execution_count": 533,
   "metadata": {
    "collapsed": true
   },
   "outputs": [],
   "source": [
    "#### Remove twitter handles"
   ]
  },
  {
   "cell_type": "code",
   "execution_count": 231,
   "metadata": {
    "collapsed": true
   },
   "outputs": [],
   "source": [
    "text = text.apply(lambda x: regex.sub(r'@[a-zA-Z0-9_\\-]*', \" \", x))\n",
    "text = text.apply(lambda x: regex.sub(r'\\s{1,}', \" \", x))"
   ]
  },
  {
   "cell_type": "code",
   "execution_count": 243,
   "metadata": {
    "collapsed": true
   },
   "outputs": [
    {
     "name": "stdout",
     "output_type": "stream",
     "text": [
      "0                                            What said.\n",
      "1      plus you've added commercials to the experien...\n",
      "2      I didn't today... Must mean I need to take an...\n",
      "3      it's really aggressive to blast obnoxious \"en...\n",
      "4              and it's a really big bad thing about it\n",
      "5      seriously would pay $30 a flight for seats th...\n",
      "6      yes, nearly every time I fly VX this ear worm...\n",
      "7      Really missed a prime opportunity for Men Wit...\n",
      "8                      Well, I didn't but NOW I DO! :-D\n",
      "9      it was amazing, and arrived an hour early. Yo...\n",
      "10     did you know that suicide is the second leadi...\n",
      "11     I 3 pretty graphics. so much better than mini...\n",
      "12     This is such a great deal! Already thinking a...\n",
      "13     I'm flying your #fabulous #Seductive skies ag...\n",
      "14                                              Thanks!\n",
      "15                       SFO-PDX schedule is still MIA.\n",
      "16     So excited for my first cross country flight ...\n",
      "17     I flew from NYC to SFO last week and couldn't...\n",
      "18                                          I flying . \n",
      "19     you know what would be amazingly awesome? BOS...\n",
      "Name: text, dtype: object\n"
     ]
    }
   ],
   "source": [
    "print(text[:20])"
   ]
  },
  {
   "cell_type": "code",
   "execution_count": 233,
   "metadata": {
    "collapsed": true
   },
   "outputs": [],
   "source": [
    "#### Remove emoticons, and non-ascii characters"
   ]
  },
  {
   "cell_type": "code",
   "execution_count": 244,
   "metadata": {
    "collapsed": true
   },
   "outputs": [],
   "source": [
    "text = text.apply(lambda x: regex.sub(r'&#\\d+;', \" \", x))\n",
    "text = text.apply(lambda x: regex.sub(r'\\s{1,}', \" \", x))"
   ]
  },
  {
   "cell_type": "code",
   "execution_count": 245,
   "metadata": {
    "collapsed": true
   },
   "outputs": [],
   "source": [
    "#### Remove HTML encoded characters and links"
   ]
  },
  {
   "cell_type": "code",
   "execution_count": 246,
   "metadata": {
    "collapsed": true
   },
   "outputs": [],
   "source": [
    "text = text.apply(lambda x: regex.sub(r'&\\w+;', \" \", x))\n",
    "text = text.apply(lambda x: \\\n",
    "                  regex.sub(r'(http|https)://(www.)?[[:alnum:]-./]+', \" \", \\\n",
    "                            x))\n",
    "text = text.apply(lambda x: regex.sub(r'\\s{1,}', \" \", x))"
   ]
  },
  {
   "cell_type": "code",
   "execution_count": 247,
   "metadata": {
    "collapsed": true
   },
   "outputs": [],
   "source": [
    "#### Add column for text with hashtags and links, handles and emoticons \n",
    "#### removed"
   ]
  },
  {
   "cell_type": "code",
   "execution_count": 248,
   "metadata": {
    "collapsed": true
   },
   "outputs": [],
   "source": [
    "airline_df[\"text_hashtags\"] = text"
   ]
  },
  {
   "cell_type": "code",
   "execution_count": 239,
   "metadata": {
    "collapsed": true
   },
   "outputs": [],
   "source": [
    "#### Save text with hashtags"
   ]
  },
  {
   "cell_type": "code",
   "execution_count": 240,
   "metadata": {
    "collapsed": true
   },
   "outputs": [],
   "source": [
    "def savefile(data, filename):\n",
    "    with open(filename, \"wb\") as csvfile:\n",
    "        writer = csv.writer(csvfile, dialect = \"excel\")\n",
    "        writer.writerow([\"text_hashtags\"])\n",
    "        for row in data:\n",
    "            writer.writerow([row, ])"
   ]
  },
  {
   "cell_type": "code",
   "execution_count": 249,
   "metadata": {
    "collapsed": true
   },
   "outputs": [],
   "source": [
    "savefile(text, \"../data/interim/text_hash.csv\")"
   ]
  },
  {
   "cell_type": "code",
   "execution_count": null,
   "metadata": {
    "collapsed": true
   },
   "outputs": [],
   "source": [
    "#### Open file"
   ]
  },
  {
   "cell_type": "code",
   "execution_count": 201,
   "metadata": {
    "collapsed": true
   },
   "outputs": [],
   "source": [
    "def openfile(filename):\n",
    "    header_row = \"\"\n",
    "    data = []\n",
    "    with open(filename, \"rb\") as csvfile:\n",
    "        getfile = csv.reader(csvfile)\n",
    "        i = 0\n",
    "        for row in getfile:\n",
    "            if i == 0:\n",
    "                header_row = row[0]\n",
    "                data = list(getfile)\n",
    "    return (data)"
   ]
  },
  {
   "cell_type": "code",
   "execution_count": null,
   "metadata": {
    "collapsed": true
   },
   "outputs": [],
   "source": [
    "#### Remove hashtags. Keep capitalization and punctuation"
   ]
  },
  {
   "cell_type": "code",
   "execution_count": 250,
   "metadata": {
    "collapsed": true
   },
   "outputs": [],
   "source": [
    "text = text.apply(lambda x: regex.sub(r'#[[:graph:]]+;', \" \", x))\n",
    "text = text.apply(lambda x: regex.sub(r'\\s{1,}', \" \", x))\n",
    "text = text.str.lstrip()"
   ]
  },
  {
   "cell_type": "code",
   "execution_count": 251,
   "metadata": {
    "collapsed": true
   },
   "outputs": [],
   "source": [
    "airline_df[\"text_nohash_cap_punc\"] = text"
   ]
  },
  {
   "cell_type": "code",
   "execution_count": 252,
   "metadata": {
    "collapsed": true
   },
   "outputs": [],
   "source": [
    "savefile(text, \"../data/interim/text_nohash_cap_punc.csv\")"
   ]
  },
  {
   "cell_type": "markdown",
   "metadata": {},
   "source": [
    "<style color = \"blue\"> Performance w/ and w/o feature engineering </style>"
   ]
  },
  {
   "cell_type": "code",
   "execution_count": null,
   "metadata": {
    "collapsed": true
   },
   "outputs": [],
   "source": [
    "#### Placeholder - to load file (if needed)"
   ]
  },
  {
   "cell_type": "markdown",
   "metadata": {},
   "source": [
    "text = pd.read_csv(\"../data/interim/text_nohash.csv\")"
   ]
  },
  {
   "cell_type": "code",
   "execution_count": null,
   "metadata": {
    "collapsed": true
   },
   "outputs": [],
   "source": [
    "###################### End of placeholder#######################"
   ]
  },
  {
   "cell_type": "code",
   "execution_count": null,
   "metadata": {
    "collapsed": true
   },
   "outputs": [],
   "source": [
    "#### Remove punctuation, numbers"
   ]
  },
  {
   "cell_type": "code",
   "execution_count": 253,
   "metadata": {
    "collapsed": true
   },
   "outputs": [],
   "source": [
    "text = text.apply(lambda x: regex.sub(r'\\'', \"\", x))\n",
    "text = text.apply(lambda x: regex.sub(r'[[:punct:]]', \" \", x))\n",
    "text = text.apply(lambda x: regex.sub(r'\\d{1,}', \" \", x))\n",
    "#text = text.apply(lambda x: x.lower())\n",
    "#text = text.apply(lambda x: regex.sub(r'[[:alpha:]]', \" \", x))\n",
    "text = text.apply(lambda x: regex.sub(r'\\s{1,}', \" \", x))\n",
    "text = text.str.strip()"
   ]
  },
  {
   "cell_type": "code",
   "execution_count": 27,
   "metadata": {
    "collapsed": true
   },
   "outputs": [
    {
     "name": "stdout",
     "output_type": "stream",
     "text": [
      "0                                            What said\n",
      "1    plus youve added commercials to the experience...\n",
      "2    I didnt today Must mean I need to take another...\n",
      "3    its really aggressive to blast obnoxious enter...\n",
      "4              and its a really big bad thing about it\n",
      "5    seriously would pay a flight for seats that di...\n",
      "6    yes nearly every time I fly VX this ear worm w...\n",
      "7    Really missed a prime opportunity for Men With...\n",
      "8                          Well I didnt but NOW I DO D\n",
      "9    it was amazing and arrived an hour early Youre...\n",
      "Name: text, dtype: object\n"
     ]
    }
   ],
   "source": [
    "print(text[:10])"
   ]
  },
  {
   "cell_type": "code",
   "execution_count": 254,
   "metadata": {
    "collapsed": true
   },
   "outputs": [],
   "source": [
    "airline_df[\"text_no_punc_num\"] = text"
   ]
  },
  {
   "cell_type": "code",
   "execution_count": 255,
   "metadata": {
    "collapsed": true
   },
   "outputs": [],
   "source": [
    "savefile(text, \"../data/interim/text_no_punc_num.csv\")"
   ]
  },
  {
   "cell_type": "code",
   "execution_count": null,
   "metadata": {
    "collapsed": true
   },
   "outputs": [],
   "source": [
    "#### Change to lowercase"
   ]
  },
  {
   "cell_type": "code",
   "execution_count": 256,
   "metadata": {
    "collapsed": true
   },
   "outputs": [],
   "source": [
    "text = text.apply(lambda x: x.lower())\n",
    "text = text.apply(lambda x: regex.sub(r'\\s{1,}', \" \", x))\n",
    "text = text.str.strip()"
   ]
  },
  {
   "cell_type": "code",
   "execution_count": 257,
   "metadata": {
    "collapsed": true
   },
   "outputs": [],
   "source": [
    "airline_df[\"text_lowercase_only\"] = text"
   ]
  },
  {
   "cell_type": "code",
   "execution_count": 258,
   "metadata": {
    "collapsed": true
   },
   "outputs": [],
   "source": [
    "savefile(text, \"../data/interim/text_lowercase_only.csv\")"
   ]
  },
  {
   "cell_type": "code",
   "execution_count": null,
   "metadata": {
    "collapsed": true
   },
   "outputs": [],
   "source": [
    "#### Load NLTK to create tokens, sentences and filter stopwords"
   ]
  },
  {
   "cell_type": "code",
   "execution_count": null,
   "metadata": {
    "collapsed": true
   },
   "outputs": [],
   "source": [
    "#### Download the NLTK data"
   ]
  },
  {
   "cell_type": "markdown",
   "metadata": {},
   "source": [
    "%sx python -m nltk.downloader -d ../data/external/nltk_data/ all"
   ]
  },
  {
   "cell_type": "markdown",
   "metadata": {},
   "source": [
    "##### Tokenize various text based on whitespace"
   ]
  },
  {
   "cell_type": "code",
   "execution_count": 150,
   "metadata": {
    "collapsed": true
   },
   "outputs": [],
   "source": [
    "def extract_tokens_sent(line):\n",
    "  #  print(line)\n",
    "    sentence = sent_tokenize(line)\n",
    "    tokens = word_tokenize(line)\n",
    "    sentence_string = \", \".join(sentence)\n",
    "    tokens_string = \", \".join(tokens)\n",
    "    return sentence_string, tokens_string\n",
    "   # return tokens_string"
   ]
  },
  {
   "cell_type": "code",
   "execution_count": null,
   "metadata": {
    "collapsed": true
   },
   "outputs": [],
   "source": [
    "#### Create new dataframe to store variations in text data"
   ]
  },
  {
   "cell_type": "code",
   "execution_count": 202,
   "metadata": {},
   "outputs": [],
   "source": [
    "def create_tokens_sent_text_variations(data, col_list):\n",
    "    text_df = data.loc[:, [\"tweet_id\"]]\n",
    "    sent_col = \"\"\n",
    "    token_col = \"\"\n",
    "    for col in col_list[1:,]:\n",
    "        # Create sentence and tokens column names\n",
    "        sent_col = col + \"_\" + \"sent\"\n",
    "        token_col = col + \"_\" + \"tokens\"\n",
    "        text_df[[sent_col, \\\n",
    "                         token_col]] = pd.DataFrame(list(data[col].apply(extract_tokens_sent)), \\\n",
    "                                                              columns = [sent_col, token_col])\n",
    "    return text_df\n",
    "        "
   ]
  },
  {
   "cell_type": "code",
   "execution_count": 173,
   "metadata": {
    "collapsed": true
   },
   "outputs": [],
   "source": [
    "text_cols = airline_df.filter(regex = \"(tweet_id|text_\\w*$)\", axis = 1).columns"
   ]
  },
  {
   "cell_type": "code",
   "execution_count": 153,
   "metadata": {
    "scrolled": true
   },
   "outputs": [
    {
     "data": {
      "text/plain": [
       "Index([u'tweet_id', u'text_hashtags', u'text_nohash_cap_punc',\n",
       "       u'text_no_punc_num', u'text_lowercase_only'],\n",
       "      dtype='object')"
      ]
     },
     "execution_count": 153,
     "metadata": {},
     "output_type": "execute_result"
    }
   ],
   "source": [
    "text_cols"
   ]
  },
  {
   "cell_type": "code",
   "execution_count": 268,
   "metadata": {
    "scrolled": true
   },
   "outputs": [],
   "source": [
    "airline_text_df = create_tokens_sent_text_variations(airline_df[text_cols], text_cols)"
   ]
  },
  {
   "cell_type": "code",
   "execution_count": 260,
   "metadata": {
    "collapsed": true
   },
   "outputs": [
    {
     "data": {
      "text/html": [
       "<div>\n",
       "<style>\n",
       "    .dataframe thead tr:only-child th {\n",
       "        text-align: right;\n",
       "    }\n",
       "\n",
       "    .dataframe thead th {\n",
       "        text-align: left;\n",
       "    }\n",
       "\n",
       "    .dataframe tbody tr th {\n",
       "        vertical-align: top;\n",
       "    }\n",
       "</style>\n",
       "<table border=\"1\" class=\"dataframe\">\n",
       "  <thead>\n",
       "    <tr style=\"text-align: right;\">\n",
       "      <th></th>\n",
       "      <th>tweet_id</th>\n",
       "      <th>text_hashtags_sent</th>\n",
       "      <th>text_hashtags_tokens</th>\n",
       "      <th>text_nohash_cap_punc_sent</th>\n",
       "      <th>text_nohash_cap_punc_tokens</th>\n",
       "      <th>text_no_punc_num_sent</th>\n",
       "      <th>text_no_punc_num_tokens</th>\n",
       "      <th>text_lowercase_only_sent</th>\n",
       "      <th>text_lowercase_only_tokens</th>\n",
       "    </tr>\n",
       "  </thead>\n",
       "  <tbody>\n",
       "    <tr>\n",
       "      <th>0</th>\n",
       "      <td>5.703060e+17</td>\n",
       "      <td>What said.</td>\n",
       "      <td>What, said, .</td>\n",
       "      <td>What said.</td>\n",
       "      <td>What, said, .</td>\n",
       "      <td>What said</td>\n",
       "      <td>What, said</td>\n",
       "      <td>what said</td>\n",
       "      <td>what, said</td>\n",
       "    </tr>\n",
       "    <tr>\n",
       "      <th>1</th>\n",
       "      <td>5.703010e+17</td>\n",
       "      <td>plus you've added commercials to the experien...</td>\n",
       "      <td>plus, you, 've, added, commercials, to, the, e...</td>\n",
       "      <td>plus you've added commercials to the experienc...</td>\n",
       "      <td>plus, you, 've, added, commercials, to, the, e...</td>\n",
       "      <td>plus youve added commercials to the experience...</td>\n",
       "      <td>plus, youve, added, commercials, to, the, expe...</td>\n",
       "      <td>plus youve added commercials to the experience...</td>\n",
       "      <td>plus, youve, added, commercials, to, the, expe...</td>\n",
       "    </tr>\n",
       "    <tr>\n",
       "      <th>2</th>\n",
       "      <td>5.703010e+17</td>\n",
       "      <td>I didn't today... Must mean I need to take an...</td>\n",
       "      <td>I, did, n't, today, ..., Must, mean, I, need, ...</td>\n",
       "      <td>I didn't today... Must mean I need to take ano...</td>\n",
       "      <td>I, did, n't, today, ..., Must, mean, I, need, ...</td>\n",
       "      <td>I didnt today Must mean I need to take another...</td>\n",
       "      <td>I, didnt, today, Must, mean, I, need, to, take...</td>\n",
       "      <td>i didnt today must mean i need to take another...</td>\n",
       "      <td>i, didnt, today, must, mean, i, need, to, take...</td>\n",
       "    </tr>\n",
       "    <tr>\n",
       "      <th>3</th>\n",
       "      <td>5.703010e+17</td>\n",
       "      <td>it's really aggressive to blast obnoxious \"en...</td>\n",
       "      <td>it, 's, really, aggressive, to, blast, obnoxio...</td>\n",
       "      <td>it's really aggressive to blast obnoxious \"ent...</td>\n",
       "      <td>it, 's, really, aggressive, to, blast, obnoxio...</td>\n",
       "      <td>its really aggressive to blast obnoxious enter...</td>\n",
       "      <td>its, really, aggressive, to, blast, obnoxious,...</td>\n",
       "      <td>its really aggressive to blast obnoxious enter...</td>\n",
       "      <td>its, really, aggressive, to, blast, obnoxious,...</td>\n",
       "    </tr>\n",
       "    <tr>\n",
       "      <th>4</th>\n",
       "      <td>5.703010e+17</td>\n",
       "      <td>and it's a really big bad thing about it</td>\n",
       "      <td>and, it, 's, a, really, big, bad, thing, about...</td>\n",
       "      <td>and it's a really big bad thing about it</td>\n",
       "      <td>and, it, 's, a, really, big, bad, thing, about...</td>\n",
       "      <td>and its a really big bad thing about it</td>\n",
       "      <td>and, its, a, really, big, bad, thing, about, it</td>\n",
       "      <td>and its a really big bad thing about it</td>\n",
       "      <td>and, its, a, really, big, bad, thing, about, it</td>\n",
       "    </tr>\n",
       "  </tbody>\n",
       "</table>\n",
       "</div>"
      ],
      "text/plain": [
       "       tweet_id                                 text_hashtags_sent  \\\n",
       "0  5.703060e+17                                         What said.   \n",
       "1  5.703010e+17   plus you've added commercials to the experien...   \n",
       "2  5.703010e+17   I didn't today... Must mean I need to take an...   \n",
       "3  5.703010e+17   it's really aggressive to blast obnoxious \"en...   \n",
       "4  5.703010e+17           and it's a really big bad thing about it   \n",
       "\n",
       "                                text_hashtags_tokens  \\\n",
       "0                                      What, said, .   \n",
       "1  plus, you, 've, added, commercials, to, the, e...   \n",
       "2  I, did, n't, today, ..., Must, mean, I, need, ...   \n",
       "3  it, 's, really, aggressive, to, blast, obnoxio...   \n",
       "4  and, it, 's, a, really, big, bad, thing, about...   \n",
       "\n",
       "                           text_nohash_cap_punc_sent  \\\n",
       "0                                         What said.   \n",
       "1  plus you've added commercials to the experienc...   \n",
       "2  I didn't today... Must mean I need to take ano...   \n",
       "3  it's really aggressive to blast obnoxious \"ent...   \n",
       "4           and it's a really big bad thing about it   \n",
       "\n",
       "                         text_nohash_cap_punc_tokens  \\\n",
       "0                                      What, said, .   \n",
       "1  plus, you, 've, added, commercials, to, the, e...   \n",
       "2  I, did, n't, today, ..., Must, mean, I, need, ...   \n",
       "3  it, 's, really, aggressive, to, blast, obnoxio...   \n",
       "4  and, it, 's, a, really, big, bad, thing, about...   \n",
       "\n",
       "                               text_no_punc_num_sent  \\\n",
       "0                                          What said   \n",
       "1  plus youve added commercials to the experience...   \n",
       "2  I didnt today Must mean I need to take another...   \n",
       "3  its really aggressive to blast obnoxious enter...   \n",
       "4            and its a really big bad thing about it   \n",
       "\n",
       "                             text_no_punc_num_tokens  \\\n",
       "0                                         What, said   \n",
       "1  plus, youve, added, commercials, to, the, expe...   \n",
       "2  I, didnt, today, Must, mean, I, need, to, take...   \n",
       "3  its, really, aggressive, to, blast, obnoxious,...   \n",
       "4    and, its, a, really, big, bad, thing, about, it   \n",
       "\n",
       "                            text_lowercase_only_sent  \\\n",
       "0                                          what said   \n",
       "1  plus youve added commercials to the experience...   \n",
       "2  i didnt today must mean i need to take another...   \n",
       "3  its really aggressive to blast obnoxious enter...   \n",
       "4            and its a really big bad thing about it   \n",
       "\n",
       "                          text_lowercase_only_tokens  \n",
       "0                                         what, said  \n",
       "1  plus, youve, added, commercials, to, the, expe...  \n",
       "2  i, didnt, today, must, mean, i, need, to, take...  \n",
       "3  its, really, aggressive, to, blast, obnoxious,...  \n",
       "4    and, its, a, really, big, bad, thing, about, it  "
      ]
     },
     "execution_count": 260,
     "metadata": {},
     "output_type": "execute_result"
    }
   ],
   "source": [
    "airline_text_df.head(5)"
   ]
  },
  {
   "cell_type": "code",
   "execution_count": null,
   "metadata": {
    "collapsed": true
   },
   "outputs": [],
   "source": [
    "#### Add clean doc as a column to dataframe"
   ]
  },
  {
   "cell_type": "code",
   "execution_count": 261,
   "metadata": {
    "collapsed": true
   },
   "outputs": [],
   "source": [
    "airline_df[\"doc\"] = pd.DataFrame(list(text), columns = [\"doc\"])"
   ]
  },
  {
   "cell_type": "markdown",
   "metadata": {},
   "source": [
    "sentences = sent_tokenize(text.to_string(index = False))\n",
    "tokens = word_tokenize(text.to_string(index = False))\n",
    "#words = [word for word in tokens if word not in stopwords.words('english')]"
   ]
  },
  {
   "cell_type": "code",
   "execution_count": null,
   "metadata": {
    "collapsed": true
   },
   "outputs": [],
   "source": [
    "#### Add numerical class variable to both airline and airline text \n",
    "##### dataframes"
   ]
  },
  {
   "cell_type": "code",
   "execution_count": 262,
   "metadata": {
    "collapsed": true
   },
   "outputs": [],
   "source": [
    "sentiment = pd.DataFrame({\"airline_sentiment\": [\"negative\", \"neutral\", \"positive\"], \\\n",
    "                         \"class\": [0, 1, 2]})"
   ]
  },
  {
   "cell_type": "code",
   "execution_count": 263,
   "metadata": {
    "collapsed": true
   },
   "outputs": [],
   "source": [
    "airline_df = pd.merge(airline_df, sentiment, how = \"inner\", \\\n",
    "                 on = \"airline_sentiment\") "
   ]
  },
  {
   "cell_type": "code",
   "execution_count": 269,
   "metadata": {},
   "outputs": [],
   "source": [
    "airline_text_df[[\"text\", \"tweet_created\", \"sentiment\", \"class\"]] = airline_df[[\"text\",\\\n",
    "                                                     \"tweet_created\", \\\n",
    "                                                        \"airline_sentiment\",\\\n",
    "                                                              \"class\"]]"
   ]
  },
  {
   "cell_type": "code",
   "execution_count": null,
   "metadata": {
    "collapsed": true
   },
   "outputs": [],
   "source": [
    "#### Write new dataframe with sentences and tokens to file"
   ]
  },
  {
   "cell_type": "code",
   "execution_count": 270,
   "metadata": {
    "collapsed": true
   },
   "outputs": [],
   "source": [
    "airline_df.to_csv(\"../data/interim/airline_df.csv\")"
   ]
  },
  {
   "cell_type": "code",
   "execution_count": 271,
   "metadata": {
    "collapsed": true
   },
   "outputs": [],
   "source": [
    "airline_text_df.to_csv(\"../data/interim/airline_text_df.csv\")"
   ]
  },
  {
   "cell_type": "code",
   "execution_count": null,
   "metadata": {
    "collapsed": true
   },
   "outputs": [],
   "source": [
    "#### Combine dataframe of text, non-text data, sentences and tokens"
   ]
  },
  {
   "cell_type": "code",
   "execution_count": 272,
   "metadata": {},
   "outputs": [],
   "source": [
    "airline_all_df = pd.merge(airline_df, airline_text_df, how = \"inner\", \\\n",
    "                 on = [\"tweet_id\", \"text\", \"tweet_created\", \"class\"]) "
   ]
  },
  {
   "cell_type": "code",
   "execution_count": 273,
   "metadata": {
    "collapsed": true
   },
   "outputs": [
    {
     "data": {
      "text/plain": [
       "Index([u'tweet_id', u'airline_sentiment', u'airline_sentiment_confidence',\n",
       "       u'negativereason', u'negativereason_confidence', u'airline',\n",
       "       u'airline_sentiment_gold', u'name', u'negativereason_gold',\n",
       "       u'retweet_count', u'text', u'tweet_coord', u'tweet_created',\n",
       "       u'tweet_location', u'user_timezone', u'text_hashtags',\n",
       "       u'text_nohash_cap_punc', u'text_no_punc_num', u'text_lowercase_only',\n",
       "       u'doc', u'class', u'text_hashtags_sent', u'text_hashtags_tokens',\n",
       "       u'text_nohash_cap_punc_sent', u'text_nohash_cap_punc_tokens',\n",
       "       u'text_no_punc_num_sent', u'text_no_punc_num_tokens',\n",
       "       u'text_lowercase_only_sent', u'text_lowercase_only_tokens',\n",
       "       u'sentiment'],\n",
       "      dtype='object')"
      ]
     },
     "execution_count": 273,
     "metadata": {},
     "output_type": "execute_result"
    }
   ],
   "source": [
    "airline_all_df.columns"
   ]
  },
  {
   "cell_type": "code",
   "execution_count": 274,
   "metadata": {
    "collapsed": true
   },
   "outputs": [],
   "source": [
    "airline_all_df.to_csv(\"../data/interim/airline_all_df.csv\")"
   ]
  },
  {
   "cell_type": "markdown",
   "metadata": {},
   "source": [
    "Continue in separate notebook. Create vocabulary, word embeddings and \n",
    "build first model"
   ]
  }
 ],
 "metadata": {
  "kernelspec": {
   "display_name": "Python 3",
   "language": "python",
   "name": "python3"
  },
  "language_info": {
   "codemirror_mode": {
    "name": "ipython",
    "version": 3
   },
   "file_extension": ".py",
   "mimetype": "text/x-python",
   "name": "python",
   "nbconvert_exporter": "python",
   "pygments_lexer": "ipython3",
   "version": "3.6.7"
  }
 },
 "nbformat": 4,
 "nbformat_minor": 2
}
