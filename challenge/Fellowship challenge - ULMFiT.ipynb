{
 "cells": [
  {
   "cell_type": "markdown",
   "metadata": {},
   "source": [
    "# <center> ULMIT using wiki103 data and Airline sentment </center>\n",
    "\n",
    "Cleaning and EDA (graphs) are in three seperate notebooks - Python and R respectively"
   ]
  },
  {
   "cell_type": "code",
   "execution_count": null,
   "metadata": {},
   "outputs": [],
   "source": [
    "#pip install plotnine\n",
    "#pip install ggplot\n",
    "#pip3 install git+https://github.com/sushinoya/ggpy"
   ]
  },
  {
   "cell_type": "code",
   "execution_count": 250,
   "metadata": {
    "_cell_guid": "b1076dfc-b9ad-4769-8c92-a6c4dae69d19",
    "_uuid": "8f2839f25d086af736a60e9eeb907d3b93b6e0e5"
   },
   "outputs": [
    {
     "data": {
      "text/plain": [
       "'1.0.54'"
      ]
     },
     "execution_count": 250,
     "metadata": {},
     "output_type": "execute_result"
    }
   ],
   "source": [
    "import os\n",
    "import gc\n",
    "import psutil\n",
    "import random\n",
    "import numpy as np\n",
    "import pickle\n",
    "import h5py\n",
    "import pandas as pd\n",
    "#from pandas._lib.lib import *\n",
    "#from pandas.lib import Timestamp\n",
    "#from ggplot import *\n",
    "from sklearn.model_selection import train_test_split\n",
    "from tqdm import tqdm_notebook\n",
    "import torch\n",
    "import fastai\n",
    "from fastai import *\n",
    "from fastai.text import *\n",
    "from sklearn.metrics.classification import classification_report\n",
    "#from fastai.conv_learner import *\n",
    "fastai.__version__"
   ]
  },
  {
   "cell_type": "code",
   "execution_count": null,
   "metadata": {
    "collapsed": true
   },
   "outputs": [],
   "source": [
    "#psutil.Process(os.getpid()).memory_info().rss"
   ]
  },
  {
   "cell_type": "markdown",
   "metadata": {},
   "source": [
    "# Preprocessing\n",
    "Twitter data cleaned in python noteook. Hashtags, emoticons and comevocab removed."
   ]
  },
  {
   "cell_type": "markdown",
   "metadata": {},
   "source": [
    "# Reading labeled data to train ULMFiT language model"
   ]
  },
  {
   "cell_type": "code",
   "execution_count": 252,
   "metadata": {},
   "outputs": [
    {
     "data": {
      "text/plain": [
       "['vocabulary-with-stopwords', 'ulmfit-challenge-all-airline-data']"
      ]
     },
     "execution_count": 252,
     "metadata": {},
     "output_type": "execute_result"
    }
   ],
   "source": [
    "os.listdir(\"../input\")"
   ]
  },
  {
   "cell_type": "code",
   "execution_count": 253,
   "metadata": {},
   "outputs": [
    {
     "name": "stdout",
     "output_type": "stream",
     "text": [
      "CPU times: user 304 ms, sys: 28 ms, total: 332 ms\n",
      "Wall time: 356 ms\n"
     ]
    }
   ],
   "source": [
    "%%time\n",
    "airline_df = pd.read_csv(\"../input/ulmfit-challenge-all-airline-data/airline_all_df.csv\")\n",
    "vocab = pd.read_csv(\"../input/vocabulary-with-stopwords/vocab_stopwords.csv\")"
   ]
  },
  {
   "cell_type": "markdown",
   "metadata": {},
   "source": [
    "## Create data_lm and clas_lm files from dataframes"
   ]
  },
  {
   "cell_type": "code",
   "execution_count": null,
   "metadata": {},
   "outputs": [],
   "source": [
    "airline_df.columns"
   ]
  },
  {
   "cell_type": "code",
   "execution_count": 254,
   "metadata": {},
   "outputs": [],
   "source": [
    "#text_df = airline_df[[\"text_no_punc_num\", \"sentiment\"]]\n",
    "text_df = airline_df[[\"text_lowercase_only\", \"sentiment\", \"class\"]]\n",
    "train_df, test_df = train_test_split(text_df, \\\n",
    "                                                     test_size = 0.2, \\\n",
    "                                                    random_state = 20190620)\n",
    "dev_df, test_df = train_test_split(test_df, \\\n",
    "                                                     test_size = 0.5, \\\n",
    "                                                    random_state = 20190620)\n",
    "\n",
    "sent_data_lm = TextLMDataBunch.from_df(path = \"\", train_df = train_df, \\\n",
    "                                         valid_df = dev_df, \\\n",
    "                                         bs =32, text_cols = \"text_lowercase_only\", \n",
    "                                       label_cols = \"sentiment\")\n",
    "\n",
    "sent_class_lm = TextClasDataBunch.from_df(path = \"\", train_df = train_df, \\\n",
    "                                         valid_df = dev_df, \\\n",
    "                                         vocab = sent_data_lm.train_ds.vocab, \\\n",
    "                                          text_cols = \"text_lowercase_only\", \n",
    "                                       label_cols = \"sentiment\",\n",
    "                                         bs =32)\n"
   ]
  },
  {
   "cell_type": "code",
   "execution_count": null,
   "metadata": {},
   "outputs": [],
   "source": [
    "type(sent_class_lm)"
   ]
  },
  {
   "cell_type": "code",
   "execution_count": 255,
   "metadata": {},
   "outputs": [],
   "source": [
    "# Save text data to file\n",
    "train_df.to_csv(\"train_df.csv\")\n",
    "dev_df.to_csv(\"dev_df.csv\")\n",
    "test_df.to_csv(\"test_df.csv\")"
   ]
  },
  {
   "cell_type": "markdown",
   "metadata": {},
   "source": [
    "#### Download ULMFiT - AWD_LSTM pretrained model"
   ]
  },
  {
   "cell_type": "code",
   "execution_count": 256,
   "metadata": {},
   "outputs": [],
   "source": [
    "learn_pretrained_model = language_model_learner(sent_data_lm, AWD_LSTM, pretrained = True)"
   ]
  },
  {
   "cell_type": "code",
   "execution_count": 257,
   "metadata": {},
   "outputs": [],
   "source": [
    "learn_pretrained_model.save(\"awd_pretrained_model\")"
   ]
  },
  {
   "cell_type": "code",
   "execution_count": null,
   "metadata": {
    "collapsed": true
   },
   "outputs": [],
   "source": [
    "#### Placeholder to load ULMFiT pretrained model"
   ]
  },
  {
   "cell_type": "code",
   "execution_count": 258,
   "metadata": {},
   "outputs": [],
   "source": [
    "learn_pretrained_model = learn_pretrained_model.load(\"awd_pretrained_model\")"
   ]
  },
  {
   "cell_type": "code",
   "execution_count": null,
   "metadata": {},
   "outputs": [],
   "source": [
    "########################################################################"
   ]
  },
  {
   "cell_type": "code",
   "execution_count": null,
   "metadata": {
    "collapsed": true
   },
   "outputs": [],
   "source": [
    "#### Search for an optimal learning rate"
   ]
  },
  {
   "cell_type": "code",
   "execution_count": 259,
   "metadata": {},
   "outputs": [
    {
     "data": {
      "text/html": [],
      "text/plain": [
       "<IPython.core.display.HTML object>"
      ]
     },
     "metadata": {},
     "output_type": "display_data"
    },
    {
     "name": "stdout",
     "output_type": "stream",
     "text": [
      "LR Finder is complete, type {learner_name}.recorder.plot() to see the graph.\n"
     ]
    }
   ],
   "source": [
    "#%%time\n",
    "\n",
    "learn_pretrained_model.lr_find(start_lr = slice(1e-10, 1e-5), \\\n",
    "                               end_lr = slice(0.01, 10000))"
   ]
  },
  {
   "cell_type": "code",
   "execution_count": 260,
   "metadata": {},
   "outputs": [
    {
     "data": {
      "image/png": "[encoded data removed]",
      "text/plain": [
       "<Figure size 432x288 with 1 Axes>"
      ]
     },
     "metadata": {
      "needs_background": "light"
     },
     "output_type": "display_data"
    }
   ],
   "source": [
    "learn_pretrained_model.recorder.plot(suggestions = True)"
   ]
  },
  {
   "cell_type": "code",
   "execution_count": null,
   "metadata": {
    "collapsed": true
   },
   "outputs": [],
   "source": [
    "#(learn_pretrained_model.recorder.lrs)\n",
    "Use a learning rate of 1e-2"
   ]
  },
  {
   "cell_type": "code",
   "execution_count": 261,
   "metadata": {},
   "outputs": [
    {
     "data": {
      "text/html": [
       "<table border=\"1\" class=\"dataframe\">\n",
       "  <thead>\n",
       "    <tr style=\"text-align: left;\">\n",
       "      <th>epoch</th>\n",
       "      <th>train_loss</th>\n",
       "      <th>valid_loss</th>\n",
       "      <th>accuracy</th>\n",
       "      <th>time</th>\n",
       "    </tr>\n",
       "  </thead>\n",
       "  <tbody>\n",
       "    <tr>\n",
       "      <td>0</td>\n",
       "      <td>5.485085</td>\n",
       "      <td>4.840350</td>\n",
       "      <td>0.182478</td>\n",
       "      <td>00:05</td>\n",
       "    </tr>\n",
       "  </tbody>\n",
       "</table>"
      ],
      "text/plain": [
       "<IPython.core.display.HTML object>"
      ]
     },
     "metadata": {},
     "output_type": "display_data"
    },
    {
     "name": "stdout",
     "output_type": "stream",
     "text": [
      "CPU times: user 1.62 s, sys: 3.62 s, total: 5.24 s\n",
      "Wall time: 5.3 s\n"
     ]
    }
   ],
   "source": [
    "%%time\n",
    "random.seed(20190628)\n",
    "learn_pretrained_model.freeze()\n",
    "learn_pretrained_model.fit_one_cycle(1, 1e-2)"
   ]
  },
  {
   "cell_type": "code",
   "execution_count": null,
   "metadata": {
    "collapsed": true
   },
   "outputs": [],
   "source": [
    "Accuracy = 18% using builtin wiki103 weights\n",
    "Next step unfreeze to update the weights for sentiment data"
   ]
  },
  {
   "cell_type": "code",
   "execution_count": 262,
   "metadata": {},
   "outputs": [
    {
     "data": {
      "text/html": [
       "<table border=\"1\" class=\"dataframe\">\n",
       "  <thead>\n",
       "    <tr style=\"text-align: left;\">\n",
       "      <th>epoch</th>\n",
       "      <th>train_loss</th>\n",
       "      <th>valid_loss</th>\n",
       "      <th>accuracy</th>\n",
       "      <th>time</th>\n",
       "    </tr>\n",
       "  </thead>\n",
       "  <tbody>\n",
       "    <tr>\n",
       "      <td>0</td>\n",
       "      <td>4.813276</td>\n",
       "      <td>4.504921</td>\n",
       "      <td>0.220945</td>\n",
       "      <td>00:06</td>\n",
       "    </tr>\n",
       "  </tbody>\n",
       "</table>"
      ],
      "text/plain": [
       "<IPython.core.display.HTML object>"
      ]
     },
     "metadata": {},
     "output_type": "display_data"
    },
    {
     "name": "stdout",
     "output_type": "stream",
     "text": [
      "CPU times: user 2.12 s, sys: 4.7 s, total: 6.81 s\n",
      "Wall time: 6.86 s\n"
     ]
    }
   ],
   "source": [
    "%%time\n",
    "#learn_pretrained_model = learn_pretrained_model.load(\"awd_pretrained_model\")\n",
    "random.seed(20190628)\n",
    "learn_pretrained_model.unfreeze()\n",
    "learn_pretrained_model.fit_one_cycle(1, 1e-2)"
   ]
  },
  {
   "cell_type": "code",
   "execution_count": null,
   "metadata": {
    "collapsed": true
   },
   "outputs": [],
   "source": [
    "Accuracy = 22% using all layers. AWD_LSTM trained on twitter text and predicting \"next word(s)\" "
   ]
  },
  {
   "cell_type": "code",
   "execution_count": null,
   "metadata": {
    "collapsed": true
   },
   "outputs": [],
   "source": [
    "#### Remove last layer"
   ]
  },
  {
   "cell_type": "code",
   "execution_count": 263,
   "metadata": {},
   "outputs": [
    {
     "data": {
      "text/html": [
       "<table border=\"1\" class=\"dataframe\">\n",
       "  <thead>\n",
       "    <tr style=\"text-align: left;\">\n",
       "      <th>epoch</th>\n",
       "      <th>train_loss</th>\n",
       "      <th>valid_loss</th>\n",
       "      <th>accuracy</th>\n",
       "      <th>time</th>\n",
       "    </tr>\n",
       "  </thead>\n",
       "  <tbody>\n",
       "    <tr>\n",
       "      <td>0</td>\n",
       "      <td>4.495011</td>\n",
       "      <td>4.450175</td>\n",
       "      <td>0.226302</td>\n",
       "      <td>00:05</td>\n",
       "    </tr>\n",
       "  </tbody>\n",
       "</table>"
      ],
      "text/plain": [
       "<IPython.core.display.HTML object>"
      ]
     },
     "metadata": {},
     "output_type": "display_data"
    },
    {
     "name": "stdout",
     "output_type": "stream",
     "text": [
      "CPU times: user 1.76 s, sys: 3.45 s, total: 5.21 s\n",
      "Wall time: 5.23 s\n"
     ]
    }
   ],
   "source": [
    "%%time\n",
    "#learn_pretrained_model.unfreeze()\n",
    "learn_pretrained_model.freeze_to(-1)\n",
    "learn_pretrained_model.fit_one_cycle(1, 1e-2)"
   ]
  },
  {
   "cell_type": "code",
   "execution_count": null,
   "metadata": {
    "collapsed": true
   },
   "outputs": [],
   "source": [
    "Output removed. Accuracy increases remains 22% with output layer removed. \n",
    "These LSTMs have a only a 4% improvement in accuracy with twitter text. \n",
    "This is perhaps expected given the unique words nad short text found in this domain."
   ]
  },
  {
   "cell_type": "code",
   "execution_count": 264,
   "metadata": {},
   "outputs": [],
   "source": [
    "learn_pretrained_model.save_encoder(\"awd_enc_1\")"
   ]
  },
  {
   "cell_type": "markdown",
   "metadata": {},
   "source": [
    "## Transfer learning - Add new output layer for sentiment classifier."
   ]
  },
  {
   "cell_type": "code",
   "execution_count": 265,
   "metadata": {},
   "outputs": [],
   "source": [
    "learn_classifier = text_classifier_learner(sent_class_lm, AWD_LSTM, metrics=accuracy, \\\n",
    "                                           callback_fns=ShowGraph)"
   ]
  },
  {
   "cell_type": "code",
   "execution_count": 267,
   "metadata": {},
   "outputs": [],
   "source": [
    "#learn_pretrained_model.save_encoder(\"awd_enc_1\")\n",
    "learn_classifier.load_encoder(\"awd_enc_1\")"
   ]
  },
  {
   "cell_type": "code",
   "execution_count": 268,
   "metadata": {},
   "outputs": [
    {
     "data": {
      "text/html": [],
      "text/plain": [
       "<IPython.core.display.HTML object>"
      ]
     },
     "metadata": {},
     "output_type": "display_data"
    },
    {
     "name": "stdout",
     "output_type": "stream",
     "text": [
      "LR Finder is complete, type {learner_name}.recorder.plot() to see the graph.\n"
     ]
    },
    {
     "data": {
      "image/png": "[encoded data removed]",
      "text/plain": [
       "<Figure size 432x288 with 1 Axes>"
      ]
     },
     "metadata": {
      "needs_background": "light"
     },
     "output_type": "display_data"
    }
   ],
   "source": [
    "random.seed(20190628)\n",
    "learn_classifier.lr_find()\n",
    "learn_classifier.recorder.plot(suggestions = True)"
   ]
  },
  {
   "cell_type": "code",
   "execution_count": 270,
   "metadata": {},
   "outputs": [
    {
     "data": {
      "text/html": [
       "<table border=\"1\" class=\"dataframe\">\n",
       "  <thead>\n",
       "    <tr style=\"text-align: left;\">\n",
       "      <th>epoch</th>\n",
       "      <th>train_loss</th>\n",
       "      <th>valid_loss</th>\n",
       "      <th>accuracy</th>\n",
       "      <th>time</th>\n",
       "    </tr>\n",
       "  </thead>\n",
       "  <tbody>\n",
       "    <tr>\n",
       "      <td>0</td>\n",
       "      <td>0.752789</td>\n",
       "      <td>0.585082</td>\n",
       "      <td>0.761905</td>\n",
       "      <td>00:04</td>\n",
       "    </tr>\n",
       "  </tbody>\n",
       "</table>"
      ],
      "text/plain": [
       "<IPython.core.display.HTML object>"
      ]
     },
     "metadata": {},
     "output_type": "display_data"
    },
    {
     "data": {
      "image/png": "[encoded data removed]",
      "text/plain": [
       "<Figure size 432x288 with 1 Axes>"
      ]
     },
     "metadata": {},
     "output_type": "display_data"
    }
   ],
   "source": [
    "learn_classifier.fit_one_cycle(1, 1e-2)"
   ]
  },
  {
   "cell_type": "code",
   "execution_count": 271,
   "metadata": {},
   "outputs": [
    {
     "data": {
      "text/html": [
       "<table border=\"1\" class=\"dataframe\">\n",
       "  <thead>\n",
       "    <tr style=\"text-align: left;\">\n",
       "      <th>epoch</th>\n",
       "      <th>train_loss</th>\n",
       "      <th>valid_loss</th>\n",
       "      <th>accuracy</th>\n",
       "      <th>time</th>\n",
       "    </tr>\n",
       "  </thead>\n",
       "  <tbody>\n",
       "    <tr>\n",
       "      <td>0</td>\n",
       "      <td>0.697087</td>\n",
       "      <td>0.570536</td>\n",
       "      <td>0.784038</td>\n",
       "      <td>00:04</td>\n",
       "    </tr>\n",
       "    <tr>\n",
       "      <td>1</td>\n",
       "      <td>0.713546</td>\n",
       "      <td>0.548329</td>\n",
       "      <td>0.798122</td>\n",
       "      <td>00:04</td>\n",
       "    </tr>\n",
       "    <tr>\n",
       "      <td>2</td>\n",
       "      <td>0.679368</td>\n",
       "      <td>0.563381</td>\n",
       "      <td>0.779343</td>\n",
       "      <td>00:04</td>\n",
       "    </tr>\n",
       "    <tr>\n",
       "      <td>3</td>\n",
       "      <td>0.707205</td>\n",
       "      <td>0.572374</td>\n",
       "      <td>0.788732</td>\n",
       "      <td>00:04</td>\n",
       "    </tr>\n",
       "    <tr>\n",
       "      <td>4</td>\n",
       "      <td>0.683738</td>\n",
       "      <td>0.565588</td>\n",
       "      <td>0.775989</td>\n",
       "      <td>00:04</td>\n",
       "    </tr>\n",
       "    <tr>\n",
       "      <td>5</td>\n",
       "      <td>0.725617</td>\n",
       "      <td>0.561548</td>\n",
       "      <td>0.780684</td>\n",
       "      <td>00:04</td>\n",
       "    </tr>\n",
       "    <tr>\n",
       "      <td>6</td>\n",
       "      <td>0.704906</td>\n",
       "      <td>0.551772</td>\n",
       "      <td>0.790074</td>\n",
       "      <td>00:04</td>\n",
       "    </tr>\n",
       "    <tr>\n",
       "      <td>7</td>\n",
       "      <td>0.685655</td>\n",
       "      <td>0.547757</td>\n",
       "      <td>0.784708</td>\n",
       "      <td>00:04</td>\n",
       "    </tr>\n",
       "    <tr>\n",
       "      <td>8</td>\n",
       "      <td>0.684330</td>\n",
       "      <td>0.550071</td>\n",
       "      <td>0.787391</td>\n",
       "      <td>00:04</td>\n",
       "    </tr>\n",
       "    <tr>\n",
       "      <td>9</td>\n",
       "      <td>0.674158</td>\n",
       "      <td>0.554867</td>\n",
       "      <td>0.782696</td>\n",
       "      <td>00:04</td>\n",
       "    </tr>\n",
       "  </tbody>\n",
       "</table>"
      ],
      "text/plain": [
       "<IPython.core.display.HTML object>"
      ]
     },
     "metadata": {},
     "output_type": "display_data"
    },
    {
     "data": {
      "image/png": "[encoded data removed]",
      "text/plain": [
       "<Figure size 432x288 with 1 Axes>"
      ]
     },
     "metadata": {},
     "output_type": "display_data"
    }
   ],
   "source": [
    "learn_classifier.fit_one_cycle(10, 1e-2)"
   ]
  },
  {
   "cell_type": "code",
   "execution_count": null,
   "metadata": {
    "collapsed": true
   },
   "outputs": [],
   "source": [
    "When using the 1-cycle policy with epoch = 10, the accuracy remains in the 75%-80%\n",
    "range, but does a better job on the validation set in terms of losses. \n",
    "This proves one cycle does not need long training times to get good results."
   ]
  },
  {
   "cell_type": "code",
   "execution_count": 272,
   "metadata": {},
   "outputs": [],
   "source": [
    "learn_classifier.save_encoder(\"class_awd_enc_1\")"
   ]
  },
  {
   "cell_type": "code",
   "execution_count": 273,
   "metadata": {},
   "outputs": [
    {
     "data": {
      "text/html": [
       "<table border=\"1\" class=\"dataframe\">\n",
       "  <thead>\n",
       "    <tr style=\"text-align: right;\">\n",
       "      <th>text</th>\n",
       "      <th>target</th>\n",
       "      <th>prediction</th>\n",
       "    </tr>\n",
       "  </thead>\n",
       "  <tbody>\n",
       "    <tr>\n",
       "      <td>xxbos i only take jetblue to travel and i have to go to xxunk next year but you guys do nt go to xxunk why do nt you guys go to xxunk</td>\n",
       "      <td>negative</td>\n",
       "      <td>negative</td>\n",
       "    </tr>\n",
       "    <tr>\n",
       "      <td>xxbos please xxunk my next flight for me i m waiting on a bus to get me off one plane so i can run to the other it leaves in two min</td>\n",
       "      <td>negative</td>\n",
       "      <td>negative</td>\n",
       "    </tr>\n",
       "    <tr>\n",
       "      <td>xxbos i m xxunk to go client b c u ca nt get me there i need refund i filled out form not confident it works if past is an indication</td>\n",
       "      <td>negative</td>\n",
       "      <td>negative</td>\n",
       "    </tr>\n",
       "    <tr>\n",
       "      <td>xxbos not happy w app late flightly last time i flew would nt let me check in this time i checked in went on late flightr says i never checked in</td>\n",
       "      <td>negative</td>\n",
       "      <td>negative</td>\n",
       "    </tr>\n",
       "    <tr>\n",
       "      <td>xxbos why would you not give us the option to get off the plane instead of sit on it for an hour and a half when you knew at the gate</td>\n",
       "      <td>negative</td>\n",
       "      <td>negative</td>\n",
       "    </tr>\n",
       "  </tbody>\n",
       "</table>"
      ],
      "text/plain": [
       "<IPython.core.display.HTML object>"
      ]
     },
     "metadata": {},
     "output_type": "display_data"
    }
   ],
   "source": [
    "learn_classifier.show_results()"
   ]
  },
  {
   "cell_type": "code",
   "execution_count": 274,
   "metadata": {},
   "outputs": [],
   "source": [
    " interp_classifier = TextClassificationInterpretation.from_learner(learn_classifier)"
   ]
  },
  {
   "cell_type": "code",
   "execution_count": 275,
   "metadata": {},
   "outputs": [
    {
     "data": {
      "image/png": "[encoded data removed]",
      "text/plain": [
       "<Figure size 432x288 with 1 Axes>"
      ]
     },
     "metadata": {
      "needs_background": "light"
     },
     "output_type": "display_data"
    }
   ],
   "source": [
    "interp_classifier.plot_confusion_matrix()"
   ]
  },
  {
   "cell_type": "code",
   "execution_count": 276,
   "metadata": {},
   "outputs": [
    {
     "name": "stdout",
     "output_type": "stream",
     "text": [
      "Accuracy with output layer removed = \n",
      "65.0\n",
      "Test error =  35.3\n"
     ]
    }
   ],
   "source": [
    "sent_class_lm.add_test(test_df)\n",
    "test_preds = learn_classifier.get_preds(DatasetType.Test, ordered = True)\n",
    "print(\"Accuracy with output layer removed = \")\n",
    "test_acc = np.mean(list(test_preds[1]) == test_df[\"class\"]) \n",
    "print(round(test_acc*100))\n",
    "print(\"Test error = \",  round((1-test_acc)* 100, 1))"
   ]
  },
  {
   "cell_type": "code",
   "execution_count": null,
   "metadata": {
    "collapsed": true
   },
   "outputs": [],
   "source": [
    "### False Porsitive Rate results on clasification"
   ]
  },
  {
   "cell_type": "code",
   "execution_count": 277,
   "metadata": {},
   "outputs": [
    {
     "name": "stdout",
     "output_type": "stream",
     "text": [
      "negative 0.045303867403314935\n",
      "positive 0.5575757575757576\n",
      "neutral 0.6328125\n"
     ]
    },
    {
     "data": {
      "text/plain": [
       "[None, None, None]"
      ]
     },
     "execution_count": 277,
     "metadata": {},
     "output_type": "execute_result"
    }
   ],
   "source": [
    "a = interp_classifier.confusion_matrix()[:,0]\n",
    "b =(np.sum(interp_classifier.confusion_matrix(), axis = 1))\n",
    "FPR = 1 - (a/b)\n",
    "[print(test_df[\"sentiment\"].unique()[i], FPR[i]) for i in range(len(test_df[\"sentiment\"].unique()))]"
   ]
  },
  {
   "cell_type": "code",
   "execution_count": null,
   "metadata": {
    "collapsed": true
   },
   "outputs": [],
   "source": [
    "On changing the task to sentiment classification the accuracy increases to 75%. \n",
    "The pretrained LSTM model + the sentiment classifier does a good job of transfer \n",
    "learning with little preprocesing (vocab) and retraining of neural network.\n",
    "\n",
    "The model can be said to have a variance issue in terms of overfitting as the error increases on the test set.\n",
    "Techniques for reducing the error (model improvement) are discussed below.\n",
    "\n",
    "On further drill-down the FPR for negative sentiment is very low. \n",
    "The classifier is able to identify neagtive text.Based on the EDA negative sentiment is key in terms \n",
    "of the 60% confidence in its classification The model gives 75% on the validation set and 65% on the \n",
    "test set overall, but a  vey low FPR = 0.04 on negative sentiment. Hence this appears to be an \n",
    "improvement on average on whatever techniqe was used to classify the sentiment. \n",
    "\n",
    "The performance on positive and neutral text is low if FPR is considered (0.56 and 0.63). If \n",
    "non-negative sentiment is required as part of the applicationn or area of interest then the model needs further tuning.\n",
    "\n",
    "This is an interesting problem as the overall accuracy is 75% and an overall \n",
    "metric can be used that combines accuracy and FPR\n",
    "\n",
    "Sentiment False Positive Rate (FPR):\n",
    "Negative = 0.045\n",
    "Neutral = 0.56\n",
    "Positive = 0.63\n",
    "\n",
    "Compare this to 95% accuracy on average achieved  in the ULMFiT original paper and 86% \n",
    "achieved by Sandra Faltl et al - https://humboldt-wi.github.io/blog/research/information_systems_1819/group4_ulmfit/\n",
    "    "
   ]
  },
  {
   "cell_type": "code",
   "execution_count": 278,
   "metadata": {},
   "outputs": [
    {
     "name": "stdout",
     "output_type": "stream",
     "text": [
      "CPU times: user 332 ms, sys: 780 ms, total: 1.11 s\n",
      "Wall time: 1.16 s\n"
     ]
    }
   ],
   "source": [
    "%%time\n",
    "# Export models to files to convert to keras format\n",
    "# Model weights, optimizer, and parameters\n",
    "learn_pretrained_model.save(\"learn_pretrained_model_opt\", with_opt = True)\n",
    "# model weights only\n",
    "learn_pretrained_model.export(\"learn_pretrained_model_weights\")\n",
    "# Save pretrained model NN architecture\n",
    "torch.save(learn_pretrained_model.model, \"learn_pretrained_model.pth\")\n",
    "\n",
    "learn_classifier.save(\"learn_classifier_opt\", with_opt = True)\n",
    "learn_classifier.export(\"learn_classifier_weights\")\n",
    "# Save classifier NN architecture\n",
    "torch.save(learn_classifier.model, \"learn_classifier.pth\")\n",
    "# Save trained model - above\n",
    "#learn_classifier.save_encoder(\"class_awd_enc_1\")"
   ]
  },
  {
   "cell_type": "code",
   "execution_count": null,
   "metadata": {
    "collapsed": true
   },
   "outputs": [],
   "source": [
    "The 75% accuracy could be due to the sentiment, twitter text domain issues, the type of vocab found on\n",
    "twitter, and/or the classifier.\n",
    "Note 75% as train-dev accuracy. 65% as test set accuracy. and either do random sample of all \n",
    "data for new testset or run code again with leave out sample.\n",
    "\n",
    "Steps to improve combined model - reduce variance:\n",
    "    **Tune LSTMs before classifier to see if performance improves on LSTMs**\n",
    "    Focus on techniques provided. backpropagation, optimization algorithm, L2 (increase lambda) , \n",
    "    parameters - Learning rate, epoch, batch size, iterations.\n",
    "    Smaller set of features = smaller vocab, less nodes (size) etc.\n",
    "\n",
    "    **Focus on the output layer (sentiment classification) by tuning classifier - NN (neural network), \n",
    "    changing NN architecture or using some other classification algorithm such as SVM**.\n",
    "\n",
    "    **What words are in negative sentiment vs positive and neutral. See what type of words?** \n",
    "    Any particular group - by airline, negativereason etc?\n",
    "    Misclassification of text - what words in certain text does it learn poorly. Modify vocab based \n",
    "    on these words learnt. Remove some \"twitter\" words that have impossibly large no. of characters\n",
    "    from vocab.                                                   "
   ]
  },
  {
   "cell_type": "code",
   "execution_count": null,
   "metadata": {},
   "outputs": [],
   "source": [
    "**CONCLUSION**\n",
    "In the airline industry domain the model does a good job of classfying negative sentiment text with a \n",
    "False Positive .Rate (FPR) = 0.04\n",
    "This is inspite of an overall model accuracy = 75% (65% on the test set).\n",
    "The confidence in the method used for classifying the negative sentiment data is on average = 60-70% \n",
    "across airlines - see \"EDA_ULMFiT_Airline_sentiment_graphs\" notebook. This might be especially useful \n",
    "for airlines that have an equal amount of negative, neutral and positive texts, e.g. Southwest and \n",
    "Delta where no one sentiment is overly dominant.\n",
    "This particular model improves the average confidence levels (negativereason_confidence) \n",
    "in negative sentiment classification to 93%\n"
   ]
  }
 ],
 "metadata": {
  "kernelspec": {
   "display_name": "Python 2",
   "language": "python",
   "name": "python2"
  },
  "language_info": {
   "codemirror_mode": {
    "name": "ipython",
    "version": 2
   },
   "file_extension": ".py",
   "mimetype": "text/x-python",
   "name": "python",
   "nbconvert_exporter": "python",
   "pygments_lexer": "ipython2",
   "version": "2.7.15"
  }
 },
 "nbformat": 4,
 "nbformat_minor": 1
}
